{
 "cells": [
  {
   "cell_type": "code",
   "execution_count": 1,
   "metadata": {},
   "outputs": [],
   "source": [
    "import pandas as pd"
   ]
  },
  {
   "cell_type": "code",
   "execution_count": 2,
   "metadata": {},
   "outputs": [],
   "source": [
    "df = pd.read_csv('data.tsv', sep='\\t')"
   ]
  },
  {
   "cell_type": "code",
   "execution_count": 69,
   "metadata": {},
   "outputs": [
    {
     "data": {
      "text/html": [
       "<div>\n",
       "<style scoped>\n",
       "    .dataframe tbody tr th:only-of-type {\n",
       "        vertical-align: middle;\n",
       "    }\n",
       "\n",
       "    .dataframe tbody tr th {\n",
       "        vertical-align: top;\n",
       "    }\n",
       "\n",
       "    .dataframe thead th {\n",
       "        text-align: right;\n",
       "    }\n",
       "</style>\n",
       "<table border=\"1\" class=\"dataframe\">\n",
       "  <thead>\n",
       "    <tr style=\"text-align: right;\">\n",
       "      <th></th>\n",
       "      <th>query</th>\n",
       "      <th>hit</th>\n",
       "      <th>evalue</th>\n",
       "      <th>score</th>\n",
       "      <th>q_desc</th>\n",
       "      <th>organism</th>\n",
       "      <th>h_desc</th>\n",
       "      <th>min</th>\n",
       "    </tr>\n",
       "  </thead>\n",
       "  <tbody>\n",
       "    <tr>\n",
       "      <th>80225</th>\n",
       "      <td>NP_001129123.1</td>\n",
       "      <td>NP_013714.1</td>\n",
       "      <td>8.205360e-25</td>\n",
       "      <td>265.0</td>\n",
       "      <td>interferon-induced, double-stranded RNA-activa...</td>\n",
       "      <td>Homo sapiens</td>\n",
       "      <td>polo kinase CDC5</td>\n",
       "      <td>True</td>\n",
       "    </tr>\n",
       "    <tr>\n",
       "      <th>80226</th>\n",
       "      <td>NP_001129123.1</td>\n",
       "      <td>NP_010569.3</td>\n",
       "      <td>1.131290e-22</td>\n",
       "      <td>250.0</td>\n",
       "      <td>interferon-induced, double-stranded RNA-activa...</td>\n",
       "      <td>Homo sapiens</td>\n",
       "      <td>serine/threonine-protein kinase GCN2</td>\n",
       "      <td>False</td>\n",
       "    </tr>\n",
       "    <tr>\n",
       "      <th>80227</th>\n",
       "      <td>NP_001129123.1</td>\n",
       "      <td>NP_010811.1</td>\n",
       "      <td>2.540970e-19</td>\n",
       "      <td>219.0</td>\n",
       "      <td>interferon-induced, double-stranded RNA-activa...</td>\n",
       "      <td>Homo sapiens</td>\n",
       "      <td>putative serine/threonine protein kinase SPS1</td>\n",
       "      <td>False</td>\n",
       "    </tr>\n",
       "    <tr>\n",
       "      <th>80228</th>\n",
       "      <td>NP_001129123.1</td>\n",
       "      <td>NP_012440.1</td>\n",
       "      <td>2.680210e-19</td>\n",
       "      <td>222.0</td>\n",
       "      <td>interferon-induced, double-stranded RNA-activa...</td>\n",
       "      <td>Homo sapiens</td>\n",
       "      <td>mitogen-activated protein kinase kinase kinase...</td>\n",
       "      <td>False</td>\n",
       "    </tr>\n",
       "    <tr>\n",
       "      <th>80229</th>\n",
       "      <td>NP_001129123.1</td>\n",
       "      <td>NP_014626.1</td>\n",
       "      <td>3.986920e-19</td>\n",
       "      <td>217.0</td>\n",
       "      <td>interferon-induced, double-stranded RNA-activa...</td>\n",
       "      <td>Homo sapiens</td>\n",
       "      <td>calmodulin-dependent protein kinase CMK2</td>\n",
       "      <td>False</td>\n",
       "    </tr>\n",
       "    <tr>\n",
       "      <th>...</th>\n",
       "      <td>...</td>\n",
       "      <td>...</td>\n",
       "      <td>...</td>\n",
       "      <td>...</td>\n",
       "      <td>...</td>\n",
       "      <td>...</td>\n",
       "      <td>...</td>\n",
       "      <td>...</td>\n",
       "    </tr>\n",
       "    <tr>\n",
       "      <th>80339</th>\n",
       "      <td>NP_001129123.1</td>\n",
       "      <td>NP_015210.1</td>\n",
       "      <td>4.637170e+00</td>\n",
       "      <td>61.0</td>\n",
       "      <td>interferon-induced, double-stranded RNA-activa...</td>\n",
       "      <td>Homo sapiens</td>\n",
       "      <td>Bem3p</td>\n",
       "      <td>False</td>\n",
       "    </tr>\n",
       "    <tr>\n",
       "      <th>80340</th>\n",
       "      <td>NP_001129123.1</td>\n",
       "      <td>NP_014105.1</td>\n",
       "      <td>4.878050e+00</td>\n",
       "      <td>60.0</td>\n",
       "      <td>interferon-induced, double-stranded RNA-activa...</td>\n",
       "      <td>Homo sapiens</td>\n",
       "      <td>Rim21p</td>\n",
       "      <td>False</td>\n",
       "    </tr>\n",
       "    <tr>\n",
       "      <th>80341</th>\n",
       "      <td>NP_001129123.1</td>\n",
       "      <td>NP_015050.1</td>\n",
       "      <td>7.173360e+00</td>\n",
       "      <td>58.0</td>\n",
       "      <td>interferon-induced, double-stranded RNA-activa...</td>\n",
       "      <td>Homo sapiens</td>\n",
       "      <td>S-adenosylmethionine-homocysteine S-methyltran...</td>\n",
       "      <td>False</td>\n",
       "    </tr>\n",
       "    <tr>\n",
       "      <th>80342</th>\n",
       "      <td>NP_001129123.1</td>\n",
       "      <td>NP_012900.1</td>\n",
       "      <td>8.483990e+00</td>\n",
       "      <td>58.0</td>\n",
       "      <td>interferon-induced, double-stranded RNA-activa...</td>\n",
       "      <td>Homo sapiens</td>\n",
       "      <td>Pan3p</td>\n",
       "      <td>False</td>\n",
       "    </tr>\n",
       "    <tr>\n",
       "      <th>80343</th>\n",
       "      <td>NP_001129123.1</td>\n",
       "      <td>NP_010784.1</td>\n",
       "      <td>9.936640e+00</td>\n",
       "      <td>58.0</td>\n",
       "      <td>interferon-induced, double-stranded RNA-activa...</td>\n",
       "      <td>Homo sapiens</td>\n",
       "      <td>Puf6p</td>\n",
       "      <td>False</td>\n",
       "    </tr>\n",
       "  </tbody>\n",
       "</table>\n",
       "<p>119 rows × 8 columns</p>\n",
       "</div>"
      ],
      "text/plain": [
       "                query          hit        evalue  score  \\\n",
       "80225  NP_001129123.1  NP_013714.1  8.205360e-25  265.0   \n",
       "80226  NP_001129123.1  NP_010569.3  1.131290e-22  250.0   \n",
       "80227  NP_001129123.1  NP_010811.1  2.540970e-19  219.0   \n",
       "80228  NP_001129123.1  NP_012440.1  2.680210e-19  222.0   \n",
       "80229  NP_001129123.1  NP_014626.1  3.986920e-19  217.0   \n",
       "...               ...          ...           ...    ...   \n",
       "80339  NP_001129123.1  NP_015210.1  4.637170e+00   61.0   \n",
       "80340  NP_001129123.1  NP_014105.1  4.878050e+00   60.0   \n",
       "80341  NP_001129123.1  NP_015050.1  7.173360e+00   58.0   \n",
       "80342  NP_001129123.1  NP_012900.1  8.483990e+00   58.0   \n",
       "80343  NP_001129123.1  NP_010784.1  9.936640e+00   58.0   \n",
       "\n",
       "                                                  q_desc      organism  \\\n",
       "80225  interferon-induced, double-stranded RNA-activa...  Homo sapiens   \n",
       "80226  interferon-induced, double-stranded RNA-activa...  Homo sapiens   \n",
       "80227  interferon-induced, double-stranded RNA-activa...  Homo sapiens   \n",
       "80228  interferon-induced, double-stranded RNA-activa...  Homo sapiens   \n",
       "80229  interferon-induced, double-stranded RNA-activa...  Homo sapiens   \n",
       "...                                                  ...           ...   \n",
       "80339  interferon-induced, double-stranded RNA-activa...  Homo sapiens   \n",
       "80340  interferon-induced, double-stranded RNA-activa...  Homo sapiens   \n",
       "80341  interferon-induced, double-stranded RNA-activa...  Homo sapiens   \n",
       "80342  interferon-induced, double-stranded RNA-activa...  Homo sapiens   \n",
       "80343  interferon-induced, double-stranded RNA-activa...  Homo sapiens   \n",
       "\n",
       "                                                  h_desc    min  \n",
       "80225                                  polo kinase CDC5    True  \n",
       "80226              serine/threonine-protein kinase GCN2   False  \n",
       "80227     putative serine/threonine protein kinase SPS1   False  \n",
       "80228  mitogen-activated protein kinase kinase kinase...  False  \n",
       "80229          calmodulin-dependent protein kinase CMK2   False  \n",
       "...                                                  ...    ...  \n",
       "80339                                             Bem3p   False  \n",
       "80340                                            Rim21p   False  \n",
       "80341  S-adenosylmethionine-homocysteine S-methyltran...  False  \n",
       "80342                                             Pan3p   False  \n",
       "80343                                             Puf6p   False  \n",
       "\n",
       "[119 rows x 8 columns]"
      ]
     },
     "execution_count": 69,
     "metadata": {},
     "output_type": "execute_result"
    }
   ],
   "source": [
    "df[df['query'].str.contains('NP_001129123')]"
   ]
  },
  {
   "cell_type": "code",
   "execution_count": 75,
   "metadata": {},
   "outputs": [
    {
     "data": {
      "text/html": [
       "<div>\n",
       "<style scoped>\n",
       "    .dataframe tbody tr th:only-of-type {\n",
       "        vertical-align: middle;\n",
       "    }\n",
       "\n",
       "    .dataframe tbody tr th {\n",
       "        vertical-align: top;\n",
       "    }\n",
       "\n",
       "    .dataframe thead th {\n",
       "        text-align: right;\n",
       "    }\n",
       "</style>\n",
       "<table border=\"1\" class=\"dataframe\">\n",
       "  <thead>\n",
       "    <tr style=\"text-align: right;\">\n",
       "      <th></th>\n",
       "      <th>query</th>\n",
       "      <th>hit</th>\n",
       "      <th>evalue</th>\n",
       "      <th>score</th>\n",
       "      <th>q_desc</th>\n",
       "      <th>organism</th>\n",
       "      <th>h_desc</th>\n",
       "      <th>min</th>\n",
       "    </tr>\n",
       "  </thead>\n",
       "  <tbody>\n",
       "    <tr>\n",
       "      <th>1994960</th>\n",
       "      <td>NP_013714.1</td>\n",
       "      <td>NP_001239155.1</td>\n",
       "      <td>2.245820e-97</td>\n",
       "      <td>810.0</td>\n",
       "      <td>polo kinase CDC5</td>\n",
       "      <td>Saccharomyces cerevisiae S288C</td>\n",
       "      <td>serine/threonine-protein kinase PLK2 isoform 2</td>\n",
       "      <td>True</td>\n",
       "    </tr>\n",
       "    <tr>\n",
       "      <th>1994961</th>\n",
       "      <td>NP_013714.1</td>\n",
       "      <td>NP_006613.2</td>\n",
       "      <td>6.671670e-97</td>\n",
       "      <td>808.0</td>\n",
       "      <td>polo kinase CDC5</td>\n",
       "      <td>Saccharomyces cerevisiae S288C</td>\n",
       "      <td>serine/threonine-protein kinase PLK2 isoform 1</td>\n",
       "      <td>False</td>\n",
       "    </tr>\n",
       "    <tr>\n",
       "      <th>1994962</th>\n",
       "      <td>NP_013714.1</td>\n",
       "      <td>NP_004064.2</td>\n",
       "      <td>5.545380e-95</td>\n",
       "      <td>792.0</td>\n",
       "      <td>polo kinase CDC5</td>\n",
       "      <td>Saccharomyces cerevisiae S288C</td>\n",
       "      <td>serine/threonine-protein kinase PLK3</td>\n",
       "      <td>False</td>\n",
       "    </tr>\n",
       "    <tr>\n",
       "      <th>1994963</th>\n",
       "      <td>NP_013714.1</td>\n",
       "      <td>NP_005021.2</td>\n",
       "      <td>1.176800e-78</td>\n",
       "      <td>676.0</td>\n",
       "      <td>polo kinase CDC5</td>\n",
       "      <td>Saccharomyces cerevisiae S288C</td>\n",
       "      <td>serine/threonine-protein kinase PLK1</td>\n",
       "      <td>False</td>\n",
       "    </tr>\n",
       "    <tr>\n",
       "      <th>1994964</th>\n",
       "      <td>NP_013714.1</td>\n",
       "      <td>NP_055079.3</td>\n",
       "      <td>3.988120e-52</td>\n",
       "      <td>500.0</td>\n",
       "      <td>polo kinase CDC5</td>\n",
       "      <td>Saccharomyces cerevisiae S288C</td>\n",
       "      <td>serine/threonine-protein kinase PLK4 isoform 1</td>\n",
       "      <td>False</td>\n",
       "    </tr>\n",
       "    <tr>\n",
       "      <th>...</th>\n",
       "      <td>...</td>\n",
       "      <td>...</td>\n",
       "      <td>...</td>\n",
       "      <td>...</td>\n",
       "      <td>...</td>\n",
       "      <td>...</td>\n",
       "      <td>...</td>\n",
       "      <td>...</td>\n",
       "    </tr>\n",
       "    <tr>\n",
       "      <th>1995455</th>\n",
       "      <td>NP_013714.1</td>\n",
       "      <td>XP_016885208.1</td>\n",
       "      <td>2.020010e-33</td>\n",
       "      <td>350.0</td>\n",
       "      <td>polo kinase CDC5</td>\n",
       "      <td>Saccharomyces cerevisiae S288C</td>\n",
       "      <td>ribosomal protein S6 kinase alpha-3 isoform X8</td>\n",
       "      <td>False</td>\n",
       "    </tr>\n",
       "    <tr>\n",
       "      <th>1995456</th>\n",
       "      <td>NP_013714.1</td>\n",
       "      <td>XP_006724570.1</td>\n",
       "      <td>2.020010e-33</td>\n",
       "      <td>350.0</td>\n",
       "      <td>polo kinase CDC5</td>\n",
       "      <td>Saccharomyces cerevisiae S288C</td>\n",
       "      <td>ribosomal protein S6 kinase alpha-3 isoform X8</td>\n",
       "      <td>False</td>\n",
       "    </tr>\n",
       "    <tr>\n",
       "      <th>1995457</th>\n",
       "      <td>NP_013714.1</td>\n",
       "      <td>XP_024303986.1</td>\n",
       "      <td>2.025210e-33</td>\n",
       "      <td>344.0</td>\n",
       "      <td>polo kinase CDC5</td>\n",
       "      <td>Saccharomyces cerevisiae S288C</td>\n",
       "      <td>calcium/calmodulin-dependent protein kinase ty...</td>\n",
       "      <td>False</td>\n",
       "    </tr>\n",
       "    <tr>\n",
       "      <th>1995458</th>\n",
       "      <td>NP_013714.1</td>\n",
       "      <td>XP_016885206.1</td>\n",
       "      <td>2.029150e-33</td>\n",
       "      <td>350.0</td>\n",
       "      <td>polo kinase CDC5</td>\n",
       "      <td>Saccharomyces cerevisiae S288C</td>\n",
       "      <td>ribosomal protein S6 kinase alpha-3 isoform X6</td>\n",
       "      <td>False</td>\n",
       "    </tr>\n",
       "    <tr>\n",
       "      <th>1995459</th>\n",
       "      <td>NP_013714.1</td>\n",
       "      <td>XP_016885205.1</td>\n",
       "      <td>2.029150e-33</td>\n",
       "      <td>350.0</td>\n",
       "      <td>polo kinase CDC5</td>\n",
       "      <td>Saccharomyces cerevisiae S288C</td>\n",
       "      <td>ribosomal protein S6 kinase alpha-3 isoform X6</td>\n",
       "      <td>False</td>\n",
       "    </tr>\n",
       "  </tbody>\n",
       "</table>\n",
       "<p>500 rows × 8 columns</p>\n",
       "</div>"
      ],
      "text/plain": [
       "               query             hit        evalue  score             q_desc  \\\n",
       "1994960  NP_013714.1  NP_001239155.1  2.245820e-97  810.0  polo kinase CDC5    \n",
       "1994961  NP_013714.1     NP_006613.2  6.671670e-97  808.0  polo kinase CDC5    \n",
       "1994962  NP_013714.1     NP_004064.2  5.545380e-95  792.0  polo kinase CDC5    \n",
       "1994963  NP_013714.1     NP_005021.2  1.176800e-78  676.0  polo kinase CDC5    \n",
       "1994964  NP_013714.1     NP_055079.3  3.988120e-52  500.0  polo kinase CDC5    \n",
       "...              ...             ...           ...    ...                ...   \n",
       "1995455  NP_013714.1  XP_016885208.1  2.020010e-33  350.0  polo kinase CDC5    \n",
       "1995456  NP_013714.1  XP_006724570.1  2.020010e-33  350.0  polo kinase CDC5    \n",
       "1995457  NP_013714.1  XP_024303986.1  2.025210e-33  344.0  polo kinase CDC5    \n",
       "1995458  NP_013714.1  XP_016885206.1  2.029150e-33  350.0  polo kinase CDC5    \n",
       "1995459  NP_013714.1  XP_016885205.1  2.029150e-33  350.0  polo kinase CDC5    \n",
       "\n",
       "                               organism  \\\n",
       "1994960  Saccharomyces cerevisiae S288C   \n",
       "1994961  Saccharomyces cerevisiae S288C   \n",
       "1994962  Saccharomyces cerevisiae S288C   \n",
       "1994963  Saccharomyces cerevisiae S288C   \n",
       "1994964  Saccharomyces cerevisiae S288C   \n",
       "...                                 ...   \n",
       "1995455  Saccharomyces cerevisiae S288C   \n",
       "1995456  Saccharomyces cerevisiae S288C   \n",
       "1995457  Saccharomyces cerevisiae S288C   \n",
       "1995458  Saccharomyces cerevisiae S288C   \n",
       "1995459  Saccharomyces cerevisiae S288C   \n",
       "\n",
       "                                                    h_desc    min  \n",
       "1994960    serine/threonine-protein kinase PLK2 isoform 2    True  \n",
       "1994961    serine/threonine-protein kinase PLK2 isoform 1   False  \n",
       "1994962              serine/threonine-protein kinase PLK3   False  \n",
       "1994963              serine/threonine-protein kinase PLK1   False  \n",
       "1994964    serine/threonine-protein kinase PLK4 isoform 1   False  \n",
       "...                                                    ...    ...  \n",
       "1995455    ribosomal protein S6 kinase alpha-3 isoform X8   False  \n",
       "1995456    ribosomal protein S6 kinase alpha-3 isoform X8   False  \n",
       "1995457  calcium/calmodulin-dependent protein kinase ty...  False  \n",
       "1995458    ribosomal protein S6 kinase alpha-3 isoform X6   False  \n",
       "1995459    ribosomal protein S6 kinase alpha-3 isoform X6   False  \n",
       "\n",
       "[500 rows x 8 columns]"
      ]
     },
     "execution_count": 75,
     "metadata": {},
     "output_type": "execute_result"
    }
   ],
   "source": [
    "df[df['query'].str.contains('NP_013714')]"
   ]
  },
  {
   "cell_type": "code",
   "execution_count": 71,
   "metadata": {},
   "outputs": [
    {
     "data": {
      "text/html": [
       "<div>\n",
       "<style scoped>\n",
       "    .dataframe tbody tr th:only-of-type {\n",
       "        vertical-align: middle;\n",
       "    }\n",
       "\n",
       "    .dataframe tbody tr th {\n",
       "        vertical-align: top;\n",
       "    }\n",
       "\n",
       "    .dataframe thead th {\n",
       "        text-align: right;\n",
       "    }\n",
       "</style>\n",
       "<table border=\"1\" class=\"dataframe\">\n",
       "  <thead>\n",
       "    <tr style=\"text-align: right;\">\n",
       "      <th></th>\n",
       "      <th>query</th>\n",
       "      <th>hit</th>\n",
       "      <th>evalue</th>\n",
       "      <th>score</th>\n",
       "      <th>q_desc</th>\n",
       "      <th>organism</th>\n",
       "      <th>h_desc</th>\n",
       "      <th>min</th>\n",
       "    </tr>\n",
       "  </thead>\n",
       "  <tbody>\n",
       "    <tr>\n",
       "      <th>637577</th>\n",
       "      <td>NP_006613.2</td>\n",
       "      <td>NP_013714.1</td>\n",
       "      <td>9.058790e-99</td>\n",
       "      <td>811.0</td>\n",
       "      <td>serine/threonine-protein kinase PLK2 isoform 1</td>\n",
       "      <td>Homo sapiens</td>\n",
       "      <td>polo kinase CDC5</td>\n",
       "      <td>True</td>\n",
       "    </tr>\n",
       "    <tr>\n",
       "      <th>637578</th>\n",
       "      <td>NP_006613.2</td>\n",
       "      <td>NP_010765.3</td>\n",
       "      <td>3.704940e-43</td>\n",
       "      <td>412.0</td>\n",
       "      <td>serine/threonine-protein kinase PLK2 isoform 1</td>\n",
       "      <td>Homo sapiens</td>\n",
       "      <td>AMP-activated serine/threonine-protein kinase ...</td>\n",
       "      <td>False</td>\n",
       "    </tr>\n",
       "    <tr>\n",
       "      <th>637579</th>\n",
       "      <td>NP_006613.2</td>\n",
       "      <td>NP_015115.1</td>\n",
       "      <td>3.602310e-39</td>\n",
       "      <td>369.0</td>\n",
       "      <td>serine/threonine-protein kinase PLK2 isoform 1</td>\n",
       "      <td>Homo sapiens</td>\n",
       "      <td>aurora kinase</td>\n",
       "      <td>False</td>\n",
       "    </tr>\n",
       "    <tr>\n",
       "      <th>637580</th>\n",
       "      <td>NP_006613.2</td>\n",
       "      <td>NP_014541.1</td>\n",
       "      <td>3.902380e-39</td>\n",
       "      <td>386.0</td>\n",
       "      <td>serine/threonine-protein kinase PLK2 isoform 1</td>\n",
       "      <td>Homo sapiens</td>\n",
       "      <td>serine/threonine protein kinase PKH2</td>\n",
       "      <td>False</td>\n",
       "    </tr>\n",
       "    <tr>\n",
       "      <th>637581</th>\n",
       "      <td>NP_006613.2</td>\n",
       "      <td>NP_010778.3</td>\n",
       "      <td>1.992210e-38</td>\n",
       "      <td>378.0</td>\n",
       "      <td>serine/threonine-protein kinase PLK2 isoform 1</td>\n",
       "      <td>Homo sapiens</td>\n",
       "      <td>serine/threonine protein kinase PKH1</td>\n",
       "      <td>False</td>\n",
       "    </tr>\n",
       "    <tr>\n",
       "      <th>...</th>\n",
       "      <td>...</td>\n",
       "      <td>...</td>\n",
       "      <td>...</td>\n",
       "      <td>...</td>\n",
       "      <td>...</td>\n",
       "      <td>...</td>\n",
       "      <td>...</td>\n",
       "      <td>...</td>\n",
       "    </tr>\n",
       "    <tr>\n",
       "      <th>637691</th>\n",
       "      <td>NP_006613.2</td>\n",
       "      <td>NP_012142.3</td>\n",
       "      <td>7.050270e-01</td>\n",
       "      <td>67.0</td>\n",
       "      <td>serine/threonine-protein kinase PLK2 isoform 1</td>\n",
       "      <td>Homo sapiens</td>\n",
       "      <td>acylglycerone-phosphate reductase</td>\n",
       "      <td>False</td>\n",
       "    </tr>\n",
       "    <tr>\n",
       "      <th>637692</th>\n",
       "      <td>NP_006613.2</td>\n",
       "      <td>NP_014525.1</td>\n",
       "      <td>1.548810e+00</td>\n",
       "      <td>65.0</td>\n",
       "      <td>serine/threonine-protein kinase PLK2 isoform 1</td>\n",
       "      <td>Homo sapiens</td>\n",
       "      <td>Msn1p</td>\n",
       "      <td>False</td>\n",
       "    </tr>\n",
       "    <tr>\n",
       "      <th>637693</th>\n",
       "      <td>NP_006613.2</td>\n",
       "      <td>NP_013043.1</td>\n",
       "      <td>2.001030e+00</td>\n",
       "      <td>64.0</td>\n",
       "      <td>serine/threonine-protein kinase PLK2 isoform 1</td>\n",
       "      <td>Homo sapiens</td>\n",
       "      <td>sulfonate dioxygenase</td>\n",
       "      <td>False</td>\n",
       "    </tr>\n",
       "    <tr>\n",
       "      <th>637694</th>\n",
       "      <td>NP_006613.2</td>\n",
       "      <td>NP_013118.1</td>\n",
       "      <td>6.307860e+00</td>\n",
       "      <td>60.0</td>\n",
       "      <td>serine/threonine-protein kinase PLK2 isoform 1</td>\n",
       "      <td>Homo sapiens</td>\n",
       "      <td>Pom34p</td>\n",
       "      <td>False</td>\n",
       "    </tr>\n",
       "    <tr>\n",
       "      <th>637695</th>\n",
       "      <td>NP_006613.2</td>\n",
       "      <td>NP_009824.2</td>\n",
       "      <td>8.843080e+00</td>\n",
       "      <td>59.0</td>\n",
       "      <td>serine/threonine-protein kinase PLK2 isoform 1</td>\n",
       "      <td>Homo sapiens</td>\n",
       "      <td>3-dehydrosphinganine reductase</td>\n",
       "      <td>False</td>\n",
       "    </tr>\n",
       "  </tbody>\n",
       "</table>\n",
       "<p>119 rows × 8 columns</p>\n",
       "</div>"
      ],
      "text/plain": [
       "              query          hit        evalue  score  \\\n",
       "637577  NP_006613.2  NP_013714.1  9.058790e-99  811.0   \n",
       "637578  NP_006613.2  NP_010765.3  3.704940e-43  412.0   \n",
       "637579  NP_006613.2  NP_015115.1  3.602310e-39  369.0   \n",
       "637580  NP_006613.2  NP_014541.1  3.902380e-39  386.0   \n",
       "637581  NP_006613.2  NP_010778.3  1.992210e-38  378.0   \n",
       "...             ...          ...           ...    ...   \n",
       "637691  NP_006613.2  NP_012142.3  7.050270e-01   67.0   \n",
       "637692  NP_006613.2  NP_014525.1  1.548810e+00   65.0   \n",
       "637693  NP_006613.2  NP_013043.1  2.001030e+00   64.0   \n",
       "637694  NP_006613.2  NP_013118.1  6.307860e+00   60.0   \n",
       "637695  NP_006613.2  NP_009824.2  8.843080e+00   59.0   \n",
       "\n",
       "                                                 q_desc      organism  \\\n",
       "637577  serine/threonine-protein kinase PLK2 isoform 1   Homo sapiens   \n",
       "637578  serine/threonine-protein kinase PLK2 isoform 1   Homo sapiens   \n",
       "637579  serine/threonine-protein kinase PLK2 isoform 1   Homo sapiens   \n",
       "637580  serine/threonine-protein kinase PLK2 isoform 1   Homo sapiens   \n",
       "637581  serine/threonine-protein kinase PLK2 isoform 1   Homo sapiens   \n",
       "...                                                 ...           ...   \n",
       "637691  serine/threonine-protein kinase PLK2 isoform 1   Homo sapiens   \n",
       "637692  serine/threonine-protein kinase PLK2 isoform 1   Homo sapiens   \n",
       "637693  serine/threonine-protein kinase PLK2 isoform 1   Homo sapiens   \n",
       "637694  serine/threonine-protein kinase PLK2 isoform 1   Homo sapiens   \n",
       "637695  serine/threonine-protein kinase PLK2 isoform 1   Homo sapiens   \n",
       "\n",
       "                                                   h_desc    min  \n",
       "637577                                  polo kinase CDC5    True  \n",
       "637578  AMP-activated serine/threonine-protein kinase ...  False  \n",
       "637579                                     aurora kinase   False  \n",
       "637580              serine/threonine protein kinase PKH2   False  \n",
       "637581              serine/threonine protein kinase PKH1   False  \n",
       "...                                                   ...    ...  \n",
       "637691                 acylglycerone-phosphate reductase   False  \n",
       "637692                                             Msn1p   False  \n",
       "637693                             sulfonate dioxygenase   False  \n",
       "637694                                            Pom34p   False  \n",
       "637695                    3-dehydrosphinganine reductase   False  \n",
       "\n",
       "[119 rows x 8 columns]"
      ]
     },
     "execution_count": 71,
     "metadata": {},
     "output_type": "execute_result"
    }
   ],
   "source": [
    "df[df['query'].str.contains('NP_006613')]"
   ]
  },
  {
   "cell_type": "code",
   "execution_count": 66,
   "metadata": {},
   "outputs": [],
   "source": [
    "# double false\n",
    "a = 'cheese'\n",
    "b = 'please'"
   ]
  },
  {
   "cell_type": "code",
   "execution_count": 76,
   "metadata": {},
   "outputs": [],
   "source": [
    "# true\n",
    "a = 'NP_006436.3'\n",
    "b = 'NP_012035.1'"
   ]
  },
  {
   "cell_type": "code",
   "execution_count": 77,
   "metadata": {},
   "outputs": [],
   "source": [
    "hit1 = df.loc[(df['query'].str.contains(a)) & (df['hit'].str.contains(b))]\n",
    "hit2 = df.loc[(df['query'].str.contains(b)) & (df['hit'].str.contains(a))]"
   ]
  },
  {
   "cell_type": "code",
   "execution_count": 39,
   "metadata": {},
   "outputs": [
    {
     "data": {
      "text/plain": [
       "'NP_006436.3'"
      ]
     },
     "execution_count": 39,
     "metadata": {},
     "output_type": "execute_result"
    }
   ],
   "source": [
    "hit1.iloc[0][0]"
   ]
  },
  {
   "cell_type": "code",
   "execution_count": 29,
   "metadata": {},
   "outputs": [
    {
     "data": {
      "text/html": [
       "<div>\n",
       "<style scoped>\n",
       "    .dataframe tbody tr th:only-of-type {\n",
       "        vertical-align: middle;\n",
       "    }\n",
       "\n",
       "    .dataframe tbody tr th {\n",
       "        vertical-align: top;\n",
       "    }\n",
       "\n",
       "    .dataframe thead th {\n",
       "        text-align: right;\n",
       "    }\n",
       "</style>\n",
       "<table border=\"1\" class=\"dataframe\">\n",
       "  <thead>\n",
       "    <tr style=\"text-align: right;\">\n",
       "      <th></th>\n",
       "      <th>query</th>\n",
       "      <th>hit</th>\n",
       "      <th>evalue</th>\n",
       "      <th>score</th>\n",
       "      <th>q_desc</th>\n",
       "      <th>organism</th>\n",
       "      <th>h_desc</th>\n",
       "      <th>min</th>\n",
       "    </tr>\n",
       "  </thead>\n",
       "  <tbody>\n",
       "  </tbody>\n",
       "</table>\n",
       "</div>"
      ],
      "text/plain": [
       "Empty DataFrame\n",
       "Columns: [query, hit, evalue, score, q_desc, organism, h_desc, min]\n",
       "Index: []"
      ]
     },
     "execution_count": 29,
     "metadata": {},
     "output_type": "execute_result"
    }
   ],
   "source": [
    "hit1"
   ]
  },
  {
   "cell_type": "code",
   "execution_count": 25,
   "metadata": {},
   "outputs": [
    {
     "data": {
      "text/html": [
       "<div>\n",
       "<style scoped>\n",
       "    .dataframe tbody tr th:only-of-type {\n",
       "        vertical-align: middle;\n",
       "    }\n",
       "\n",
       "    .dataframe tbody tr th {\n",
       "        vertical-align: top;\n",
       "    }\n",
       "\n",
       "    .dataframe thead th {\n",
       "        text-align: right;\n",
       "    }\n",
       "</style>\n",
       "<table border=\"1\" class=\"dataframe\">\n",
       "  <thead>\n",
       "    <tr style=\"text-align: right;\">\n",
       "      <th></th>\n",
       "      <th>query</th>\n",
       "      <th>hit</th>\n",
       "      <th>evalue</th>\n",
       "      <th>score</th>\n",
       "      <th>q_desc</th>\n",
       "      <th>organism</th>\n",
       "      <th>h_desc</th>\n",
       "      <th>min</th>\n",
       "    </tr>\n",
       "  </thead>\n",
       "  <tbody>\n",
       "    <tr>\n",
       "      <th>634887</th>\n",
       "      <td>NP_006436.3</td>\n",
       "      <td>NP_012035.1</td>\n",
       "      <td>0.0</td>\n",
       "      <td>7931.0</td>\n",
       "      <td>pre-mRNA-processing-splicing factor 8</td>\n",
       "      <td>Homo sapiens</td>\n",
       "      <td>U4/U6-U5 snRNP complex subunit PRP8</td>\n",
       "      <td>True</td>\n",
       "    </tr>\n",
       "  </tbody>\n",
       "</table>\n",
       "</div>"
      ],
      "text/plain": [
       "              query          hit  evalue   score  \\\n",
       "634887  NP_006436.3  NP_012035.1     0.0  7931.0   \n",
       "\n",
       "                                        q_desc      organism  \\\n",
       "634887  pre-mRNA-processing-splicing factor 8   Homo sapiens   \n",
       "\n",
       "                                      h_desc   min  \n",
       "634887  U4/U6-U5 snRNP complex subunit PRP8   True  "
      ]
     },
     "execution_count": 25,
     "metadata": {},
     "output_type": "execute_result"
    }
   ],
   "source": [
    "hit1"
   ]
  },
  {
   "cell_type": "code",
   "execution_count": 59,
   "metadata": {},
   "outputs": [
    {
     "data": {
      "text/plain": [
       "False"
      ]
     },
     "execution_count": 59,
     "metadata": {},
     "output_type": "execute_result"
    }
   ],
   "source": [
    "hit1.empty"
   ]
  },
  {
   "cell_type": "code",
   "execution_count": 60,
   "metadata": {},
   "outputs": [
    {
     "data": {
      "text/plain": [
       "False"
      ]
     },
     "execution_count": 60,
     "metadata": {},
     "output_type": "execute_result"
    }
   ],
   "source": [
    "hit2.empty"
   ]
  },
  {
   "cell_type": "code",
   "execution_count": 78,
   "metadata": {},
   "outputs": [
    {
     "data": {
      "text/plain": [
       "True"
      ]
     },
     "execution_count": 78,
     "metadata": {},
     "output_type": "execute_result"
    }
   ],
   "source": [
    "hit1.empty is False and hit2.empty is False"
   ]
  },
  {
   "cell_type": "code",
   "execution_count": 83,
   "metadata": {},
   "outputs": [
    {
     "data": {
      "text/plain": [
       "True"
      ]
     },
     "execution_count": 83,
     "metadata": {},
     "output_type": "execute_result"
    }
   ],
   "source": [
    "hit1.iloc[0][7] == True"
   ]
  },
  {
   "cell_type": "code",
   "execution_count": 82,
   "metadata": {},
   "outputs": [
    {
     "data": {
      "text/plain": [
       "True"
      ]
     },
     "execution_count": 82,
     "metadata": {},
     "output_type": "execute_result"
    }
   ],
   "source": [
    "hit2.iloc[0][7] == True"
   ]
  },
  {
   "cell_type": "code",
   "execution_count": null,
   "metadata": {},
   "outputs": [],
   "source": [
    "hit1.iloc[0][7] and hit2.iloc[0][7] is True"
   ]
  },
  {
   "cell_type": "code",
   "execution_count": 54,
   "metadata": {},
   "outputs": [],
   "source": [
    "if not hit1.empty and hit2.empty:\n",
    "    print('both not````` empty')"
   ]
  },
  {
   "cell_type": "code",
   "execution_count": 55,
   "metadata": {},
   "outputs": [
    {
     "data": {
      "text/plain": [
       "True"
      ]
     },
     "execution_count": 55,
     "metadata": {},
     "output_type": "execute_result"
    }
   ],
   "source": [
    "False == False"
   ]
  },
  {
   "cell_type": "code",
   "execution_count": 56,
   "metadata": {},
   "outputs": [
    {
     "data": {
      "text/plain": [
       "True"
      ]
     },
     "execution_count": 56,
     "metadata": {},
     "output_type": "execute_result"
    }
   ],
   "source": [
    "True is True and True is True"
   ]
  },
  {
   "cell_type": "code",
   "execution_count": null,
   "metadata": {},
   "outputs": [],
   "source": []
  }
 ],
 "metadata": {
  "kernelspec": {
   "display_name": "524_env",
   "language": "python",
   "name": "524_env"
  },
  "language_info": {
   "codemirror_mode": {
    "name": "ipython",
    "version": 3
   },
   "file_extension": ".py",
   "mimetype": "text/x-python",
   "name": "python",
   "nbconvert_exporter": "python",
   "pygments_lexer": "ipython3",
   "version": "3.7.3"
  }
 },
 "nbformat": 4,
 "nbformat_minor": 2
}
