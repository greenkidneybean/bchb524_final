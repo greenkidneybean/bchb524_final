{
 "cells": [
  {
   "cell_type": "markdown",
   "metadata": {},
   "source": [
    "INFO:\n",
    "- sequences\n",
    "    - yeast:\n",
    "    - human:\n",
    "- file size:\n",
    "    - xml: yeast_query.xml = 842 MB, human_query.xml = 3.34 GB\n",
    "    - tsv: yeast = 73 MB, human = 334.9 MB (10-fold reduction)\n",
    "- data\n",
    "    - yeast\n",
    "        - hits: 395851\n",
    "    - human\n",
    "        - hits: 1728526"
   ]
  },
  {
   "cell_type": "code",
   "execution_count": 28,
   "metadata": {},
   "outputs": [
    {
     "name": "stdout",
     "output_type": "stream",
     "text": [
      "Query: NP_013714.1 Hit: NP_006613.2 Evalue: 6.671669999999997e-97\n",
      "NP_013714.1 (Saccharomyces cerevisiae S288C) - polo kinase CDC5 \n",
      "\n",
      "Query: NP_006613.2 Hit: NP_013714.1 Evalue: 9.058789999999999e-99\n",
      "NP_006613.2 (Homo sapiens) - serine/threonine-protein kinase PLK2 isoform 1 \n",
      "\n",
      "Orthologous proteins: False\n"
     ]
    }
   ],
   "source": [
    "import sqlite3\n",
    "conn = sqlite3.connect('data.db')\n",
    "c = conn.cursor()\n",
    "\n",
    "a = 'NP_013714'\n",
    "#a = 'cheese'NP_013714 NP_006613\n",
    "b = 'NP_006613' #'NP_013714'\n",
    "\n",
    "hit1 = None\n",
    "hit2 = None\n",
    "\n",
    "try:\n",
    "    hit1 = c.execute(f'SELECT * FROM DATA WHERE query LIKE \"{a}%\" AND hit LIKE \"{b}%\"').fetchall()[0]\n",
    "    print('Query:', hit1[0], 'Hit:', hit1[1], 'Evalue:', hit1[2])\n",
    "    print(f'{hit1[0]} ({hit1[5]}) - {hit1[4]}\\n')\n",
    "except IndexError:\n",
    "    print('No hits in database for', a, 'against', b, '\\n')\n",
    "try:\n",
    "    hit2 = c.execute(f'SELECT * FROM DATA WHERE query LIKE \"{b}%\" AND hit LIKE \"{a}%\"').fetchall()[0]\n",
    "    print('Query:', hit2[0], 'Hit:', hit2[1], 'Evalue:', hit2[2])\n",
    "    print(f'{hit2[0]} ({hit2[5]}) - {hit2[4]}\\n')\n",
    "except IndexError:\n",
    "    print('No hits in database for', b, 'against', a, '\\n')\n",
    "    \n",
    "if hit1 and hit2 != None:\n",
    "    print('Orthologous proteins:', hit1[7] == 1 and hit2[7] == 1)"
   ]
  },
  {
   "cell_type": "code",
   "execution_count": 21,
   "metadata": {},
   "outputs": [
    {
     "data": {
      "text/plain": [
       "('NP_012035.1',\n",
       " 'NP_006436.3',\n",
       " 0.0,\n",
       " 7871.0,\n",
       " 'U4/U6-U5 snRNP complex subunit PRP8 ',\n",
       " 'Saccharomyces cerevisiae S288C',\n",
       " 'pre-mRNA-processing-splicing factor 8 ',\n",
       " 1)"
      ]
     },
     "execution_count": 21,
     "metadata": {},
     "output_type": "execute_result"
    }
   ],
   "source": [
    "hit1"
   ]
  },
  {
   "cell_type": "code",
   "execution_count": 12,
   "metadata": {},
   "outputs": [
    {
     "data": {
      "text/plain": [
       "('NP_012035.1',\n",
       " 'NP_006436.3',\n",
       " 0.0,\n",
       " 7871.0,\n",
       " 'U4/U6-U5 snRNP complex subunit PRP8 ',\n",
       " 'Saccharomyces cerevisiae S288C',\n",
       " 'pre-mRNA-processing-splicing factor 8 ',\n",
       " 1)"
      ]
     },
     "execution_count": 12,
     "metadata": {},
     "output_type": "execute_result"
    }
   ],
   "source": [
    "if hit1.empty:\n",
    "    print('No hits in database for', args.query1, 'against', args.query2, '\\n')\n",
    "else:\n",
    "    print('Query:', hit1.iloc[0][0], 'Hit:', hit1.iloc[0][1], 'Evalue:', hit1.iloc[0][2])\n",
    "    print(f'{hit1.iloc[0][0]} ({hit1.iloc[0][5]}) - {hit1.iloc[0][4]}\\n')\n",
    "\n",
    "if hit2.empty:\n",
    "    print('No hits in database for', args.query2, 'against', args.query1, '\\n')\n",
    "else:\n",
    "    print('Query:', hit2.iloc[0][0], 'Hit:', hit2.iloc[0][1], 'Evalue:', hit2.iloc[0][2])\n",
    "    print(f'{hit2.iloc[0][0]} ({hit2.iloc[0][5]}) - {hit2.iloc[0][4]}\\n')\n",
    "\n",
    "\n",
    "if hit1.empty is False and hit2.empty is False:\n",
    "    print('Orthologous proteins:', hit1.iloc[0][7] and hit2.iloc[0][7] == True)"
   ]
  },
  {
   "cell_type": "code",
   "execution_count": null,
   "metadata": {},
   "outputs": [],
   "source": [
    "a = 'NP_006436.3'\n",
    "b = 'NP_012035.1'\n",
    "\n",
    "with open(args.db) as tsv:\n",
    "    for line in csv.reader(tsv, delimiter=\"\\t\"):\n",
    "        if args.query1 in line[0] and args.query2 in line[1]:\n",
    "            hit1 = line\n",
    "        elif args.query2 in line[0] and args.query1 in line[1]:\n",
    "            hit2 = line\n",
    "\n",
    "try:\n",
    "    print('Query:', hit1[0], 'Hit:', hit1[1], 'Evalue:', hit1[2])\n",
    "    print(f'{hit1[0]} ({hit1[5]}) - {hit1[4]}\\n')\n",
    "except TypeError:\n",
    "    print('No hits in database for', args.query1, 'against', args.query2, '\\n')\n",
    "\n",
    "try:\n",
    "    print('Query:', hit2[0], 'Hit:', hit2[1], 'Evalue:', hit2[2])\n",
    "    print(f'{hit2[0]} ({hit2[5]}) - {hit2[4]}\\n')\n",
    "except TypeError:\n",
    "    print('No hits in database for', args.query2, 'against', args.query1, '\\n')\n",
    "\n",
    "if hit1 and hit2 != None:\n",
    "    print('Orthologous proteins:', hit1[7] == 'True' and hit2[7] == 'True')"
   ]
  },
  {
   "cell_type": "code",
   "execution_count": null,
   "metadata": {},
   "outputs": [],
   "source": []
  },
  {
   "cell_type": "code",
   "execution_count": null,
   "metadata": {},
   "outputs": [],
   "source": []
  },
  {
   "cell_type": "code",
   "execution_count": null,
   "metadata": {},
   "outputs": [],
   "source": []
  },
  {
   "cell_type": "code",
   "execution_count": null,
   "metadata": {},
   "outputs": [],
   "source": []
  },
  {
   "cell_type": "code",
   "execution_count": 7,
   "metadata": {},
   "outputs": [],
   "source": [
    "from sqlalchemy import create_engine\n",
    "engine = create_engine('sqlite://', echo=False)"
   ]
  },
  {
   "cell_type": "code",
   "execution_count": 8,
   "metadata": {},
   "outputs": [],
   "source": [
    "# save as slq database\n",
    "import pandas as pd\n",
    "df = pd.read_csv('data.tsv', sep='\\t')\n",
    "df.to_sql('users', con=engine)"
   ]
  },
  {
   "cell_type": "code",
   "execution_count": 11,
   "metadata": {},
   "outputs": [],
   "source": [
    "import sqlite3"
   ]
  },
  {
   "cell_type": "code",
   "execution_count": 13,
   "metadata": {},
   "outputs": [
    {
     "data": {
      "text/html": [
       "<div>\n",
       "<style scoped>\n",
       "    .dataframe tbody tr th:only-of-type {\n",
       "        vertical-align: middle;\n",
       "    }\n",
       "\n",
       "    .dataframe tbody tr th {\n",
       "        vertical-align: top;\n",
       "    }\n",
       "\n",
       "    .dataframe thead th {\n",
       "        text-align: right;\n",
       "    }\n",
       "</style>\n",
       "<table border=\"1\" class=\"dataframe\">\n",
       "  <thead>\n",
       "    <tr style=\"text-align: right;\">\n",
       "      <th></th>\n",
       "      <th>query</th>\n",
       "      <th>hit</th>\n",
       "      <th>evalue</th>\n",
       "      <th>score</th>\n",
       "      <th>q_desc</th>\n",
       "      <th>organism</th>\n",
       "      <th>h_desc</th>\n",
       "      <th>min</th>\n",
       "    </tr>\n",
       "  </thead>\n",
       "  <tbody>\n",
       "    <tr>\n",
       "      <th>0</th>\n",
       "      <td>NP_000005.3</td>\n",
       "      <td>NP_010559.3</td>\n",
       "      <td>1.17890</td>\n",
       "      <td>69.0</td>\n",
       "      <td>alpha-2-macroglobulin isoform a precursor</td>\n",
       "      <td>Homo sapiens</td>\n",
       "      <td>Don1p</td>\n",
       "      <td>True</td>\n",
       "    </tr>\n",
       "    <tr>\n",
       "      <th>1</th>\n",
       "      <td>NP_000005.3</td>\n",
       "      <td>NP_013589.1</td>\n",
       "      <td>1.92351</td>\n",
       "      <td>68.0</td>\n",
       "      <td>alpha-2-macroglobulin isoform a precursor</td>\n",
       "      <td>Homo sapiens</td>\n",
       "      <td>Nab6p</td>\n",
       "      <td>False</td>\n",
       "    </tr>\n",
       "    <tr>\n",
       "      <th>2</th>\n",
       "      <td>NP_000005.3</td>\n",
       "      <td>NP_011499.1</td>\n",
       "      <td>3.92464</td>\n",
       "      <td>65.0</td>\n",
       "      <td>alpha-2-macroglobulin isoform a precursor</td>\n",
       "      <td>Homo sapiens</td>\n",
       "      <td>Kap122p</td>\n",
       "      <td>False</td>\n",
       "    </tr>\n",
       "    <tr>\n",
       "      <th>3</th>\n",
       "      <td>NP_000005.3</td>\n",
       "      <td>NP_011712.1</td>\n",
       "      <td>5.56345</td>\n",
       "      <td>64.0</td>\n",
       "      <td>alpha-2-macroglobulin isoform a precursor</td>\n",
       "      <td>Homo sapiens</td>\n",
       "      <td>Fyv8p</td>\n",
       "      <td>False</td>\n",
       "    </tr>\n",
       "    <tr>\n",
       "      <th>4</th>\n",
       "      <td>NP_000005.3</td>\n",
       "      <td>NP_014030.1</td>\n",
       "      <td>5.96215</td>\n",
       "      <td>64.0</td>\n",
       "      <td>alpha-2-macroglobulin isoform a precursor</td>\n",
       "      <td>Homo sapiens</td>\n",
       "      <td>ATP-binding cassette Fe/S cluster precursor tr...</td>\n",
       "      <td>False</td>\n",
       "    </tr>\n",
       "  </tbody>\n",
       "</table>\n",
       "</div>"
      ],
      "text/plain": [
       "         query          hit   evalue  score  \\\n",
       "0  NP_000005.3  NP_010559.3  1.17890   69.0   \n",
       "1  NP_000005.3  NP_013589.1  1.92351   68.0   \n",
       "2  NP_000005.3  NP_011499.1  3.92464   65.0   \n",
       "3  NP_000005.3  NP_011712.1  5.56345   64.0   \n",
       "4  NP_000005.3  NP_014030.1  5.96215   64.0   \n",
       "\n",
       "                                       q_desc      organism  \\\n",
       "0  alpha-2-macroglobulin isoform a precursor   Homo sapiens   \n",
       "1  alpha-2-macroglobulin isoform a precursor   Homo sapiens   \n",
       "2  alpha-2-macroglobulin isoform a precursor   Homo sapiens   \n",
       "3  alpha-2-macroglobulin isoform a precursor   Homo sapiens   \n",
       "4  alpha-2-macroglobulin isoform a precursor   Homo sapiens   \n",
       "\n",
       "                                              h_desc    min  \n",
       "0                                             Don1p    True  \n",
       "1                                             Nab6p   False  \n",
       "2                                           Kap122p   False  \n",
       "3                                             Fyv8p   False  \n",
       "4  ATP-binding cassette Fe/S cluster precursor tr...  False  "
      ]
     },
     "execution_count": 13,
     "metadata": {},
     "output_type": "execute_result"
    }
   ],
   "source": [
    "df.head()"
   ]
  },
  {
   "cell_type": "code",
   "execution_count": 32,
   "metadata": {},
   "outputs": [
    {
     "ename": "OperationalError",
     "evalue": "table DATA already exists",
     "output_type": "error",
     "traceback": [
      "\u001b[0;31m---------------------------------------------------------------------------\u001b[0m",
      "\u001b[0;31mOperationalError\u001b[0m                          Traceback (most recent call last)",
      "\u001b[0;32m<ipython-input-32-778b3c6fbf5a>\u001b[0m in \u001b[0;36m<module>\u001b[0;34m\u001b[0m\n\u001b[1;32m      1\u001b[0m \u001b[0mconn\u001b[0m \u001b[0;34m=\u001b[0m \u001b[0msqlite3\u001b[0m\u001b[0;34m.\u001b[0m\u001b[0mconnect\u001b[0m\u001b[0;34m(\u001b[0m\u001b[0;34m'data.db'\u001b[0m\u001b[0;34m)\u001b[0m\u001b[0;34m\u001b[0m\u001b[0;34m\u001b[0m\u001b[0m\n\u001b[1;32m      2\u001b[0m \u001b[0mc\u001b[0m \u001b[0;34m=\u001b[0m \u001b[0mconn\u001b[0m\u001b[0;34m.\u001b[0m\u001b[0mcursor\u001b[0m\u001b[0;34m(\u001b[0m\u001b[0;34m)\u001b[0m\u001b[0;34m\u001b[0m\u001b[0;34m\u001b[0m\u001b[0m\n\u001b[0;32m----> 3\u001b[0;31m \u001b[0mc\u001b[0m\u001b[0;34m.\u001b[0m\u001b[0mexecute\u001b[0m\u001b[0;34m(\u001b[0m\u001b[0;34m'CREATE TABLE DATA (query text, hit number, evalue number, score number, q_desc text, organism text, h_desc text, min bit)'\u001b[0m\u001b[0;34m)\u001b[0m\u001b[0;34m\u001b[0m\u001b[0;34m\u001b[0m\u001b[0m\n\u001b[0m\u001b[1;32m      4\u001b[0m \u001b[0mconn\u001b[0m\u001b[0;34m.\u001b[0m\u001b[0mcommit\u001b[0m\u001b[0;34m(\u001b[0m\u001b[0;34m)\u001b[0m\u001b[0;34m\u001b[0m\u001b[0;34m\u001b[0m\u001b[0m\n",
      "\u001b[0;31mOperationalError\u001b[0m: table DATA already exists"
     ]
    }
   ],
   "source": [
    "conn = sqlite3.connect('data.db')\n",
    "c = conn.cursor()\n",
    "c.execute('CREATE TABLE DATA (query text, hit number, evalue number, score number, q_desc text, organism text, h_desc text, min text)')\n",
    "conn.commit()"
   ]
  },
  {
   "cell_type": "code",
   "execution_count": 15,
   "metadata": {},
   "outputs": [],
   "source": [
    "df.to_sql('DATA', conn, if_exists='replace', index = False)"
   ]
  },
  {
   "cell_type": "code",
   "execution_count": 33,
   "metadata": {},
   "outputs": [
    {
     "data": {
      "text/plain": [
       "1"
      ]
     },
     "execution_count": 33,
     "metadata": {},
     "output_type": "execute_result"
    }
   ],
   "source": [
    "# SELECT * FROM YouTable WHERE col3 = 1 AND col2 in ('B','D');\n",
    "d = c.execute('SELECT * FROM DATA WHERE query LIKE \"NP_000005.3%\" AND hit LIKE \"NP_013589%\"').fetchall()\n",
    "len(d)"
   ]
  },
  {
   "cell_type": "code",
   "execution_count": 34,
   "metadata": {},
   "outputs": [
    {
     "data": {
      "text/plain": [
       "[('NP_000005.3',\n",
       "  'NP_013589.1',\n",
       "  1.92351,\n",
       "  68.0,\n",
       "  'alpha-2-macroglobulin isoform a precursor ',\n",
       "  'Homo sapiens',\n",
       "  'Nab6p ',\n",
       "  0)]"
      ]
     },
     "execution_count": 34,
     "metadata": {},
     "output_type": "execute_result"
    }
   ],
   "source": [
    "d"
   ]
  },
  {
   "cell_type": "code",
   "execution_count": 24,
   "metadata": {},
   "outputs": [
    {
     "data": {
      "text/html": [
       "<div>\n",
       "<style scoped>\n",
       "    .dataframe tbody tr th:only-of-type {\n",
       "        vertical-align: middle;\n",
       "    }\n",
       "\n",
       "    .dataframe tbody tr th {\n",
       "        vertical-align: top;\n",
       "    }\n",
       "\n",
       "    .dataframe thead th {\n",
       "        text-align: right;\n",
       "    }\n",
       "</style>\n",
       "<table border=\"1\" class=\"dataframe\">\n",
       "  <thead>\n",
       "    <tr style=\"text-align: right;\">\n",
       "      <th></th>\n",
       "      <th>query</th>\n",
       "      <th>hit</th>\n",
       "      <th>evalue</th>\n",
       "      <th>score</th>\n",
       "      <th>q_desc</th>\n",
       "      <th>organism</th>\n",
       "      <th>h_desc</th>\n",
       "      <th>min</th>\n",
       "    </tr>\n",
       "  </thead>\n",
       "  <tbody>\n",
       "    <tr>\n",
       "      <th>0</th>\n",
       "      <td>NP_000005.3</td>\n",
       "      <td>NP_010559.3</td>\n",
       "      <td>1.178900</td>\n",
       "      <td>69.0</td>\n",
       "      <td>alpha-2-macroglobulin isoform a precursor</td>\n",
       "      <td>Homo sapiens</td>\n",
       "      <td>Don1p</td>\n",
       "      <td>True</td>\n",
       "    </tr>\n",
       "    <tr>\n",
       "      <th>1</th>\n",
       "      <td>NP_000005.3</td>\n",
       "      <td>NP_013589.1</td>\n",
       "      <td>1.923510</td>\n",
       "      <td>68.0</td>\n",
       "      <td>alpha-2-macroglobulin isoform a precursor</td>\n",
       "      <td>Homo sapiens</td>\n",
       "      <td>Nab6p</td>\n",
       "      <td>False</td>\n",
       "    </tr>\n",
       "    <tr>\n",
       "      <th>2</th>\n",
       "      <td>NP_000005.3</td>\n",
       "      <td>NP_011499.1</td>\n",
       "      <td>3.924640</td>\n",
       "      <td>65.0</td>\n",
       "      <td>alpha-2-macroglobulin isoform a precursor</td>\n",
       "      <td>Homo sapiens</td>\n",
       "      <td>Kap122p</td>\n",
       "      <td>False</td>\n",
       "    </tr>\n",
       "    <tr>\n",
       "      <th>3</th>\n",
       "      <td>NP_000005.3</td>\n",
       "      <td>NP_011712.1</td>\n",
       "      <td>5.563450</td>\n",
       "      <td>64.0</td>\n",
       "      <td>alpha-2-macroglobulin isoform a precursor</td>\n",
       "      <td>Homo sapiens</td>\n",
       "      <td>Fyv8p</td>\n",
       "      <td>False</td>\n",
       "    </tr>\n",
       "    <tr>\n",
       "      <th>4</th>\n",
       "      <td>NP_000005.3</td>\n",
       "      <td>NP_014030.1</td>\n",
       "      <td>5.962150</td>\n",
       "      <td>64.0</td>\n",
       "      <td>alpha-2-macroglobulin isoform a precursor</td>\n",
       "      <td>Homo sapiens</td>\n",
       "      <td>ATP-binding cassette Fe/S cluster precursor tr...</td>\n",
       "      <td>False</td>\n",
       "    </tr>\n",
       "    <tr>\n",
       "      <th>5</th>\n",
       "      <td>NP_000005.3</td>\n",
       "      <td>NP_013769.1</td>\n",
       "      <td>6.735800</td>\n",
       "      <td>63.0</td>\n",
       "      <td>alpha-2-macroglobulin isoform a precursor</td>\n",
       "      <td>Homo sapiens</td>\n",
       "      <td>Stb2p</td>\n",
       "      <td>False</td>\n",
       "    </tr>\n",
       "    <tr>\n",
       "      <th>6</th>\n",
       "      <td>NP_000005.3</td>\n",
       "      <td>NP_013324.1</td>\n",
       "      <td>7.781390</td>\n",
       "      <td>63.0</td>\n",
       "      <td>alpha-2-macroglobulin isoform a precursor</td>\n",
       "      <td>Homo sapiens</td>\n",
       "      <td>Ifh1p</td>\n",
       "      <td>False</td>\n",
       "    </tr>\n",
       "    <tr>\n",
       "      <th>7</th>\n",
       "      <td>NP_000006.2</td>\n",
       "      <td>NP_014376.3</td>\n",
       "      <td>0.689947</td>\n",
       "      <td>64.0</td>\n",
       "      <td>arylamine N-acetyltransferase 2</td>\n",
       "      <td>Homo sapiens</td>\n",
       "      <td>rRNA (cytosine-C5-)-methyltransferase RCM1</td>\n",
       "      <td>True</td>\n",
       "    </tr>\n",
       "    <tr>\n",
       "      <th>8</th>\n",
       "      <td>NP_000006.2</td>\n",
       "      <td>NP_014217.1</td>\n",
       "      <td>1.681420</td>\n",
       "      <td>61.0</td>\n",
       "      <td>arylamine N-acetyltransferase 2</td>\n",
       "      <td>Homo sapiens</td>\n",
       "      <td>chromatin-binding/pre-rRNA-processing protein ...</td>\n",
       "      <td>False</td>\n",
       "    </tr>\n",
       "    <tr>\n",
       "      <th>9</th>\n",
       "      <td>NP_000006.2</td>\n",
       "      <td>NP_014046.1</td>\n",
       "      <td>1.772510</td>\n",
       "      <td>61.0</td>\n",
       "      <td>arylamine N-acetyltransferase 2</td>\n",
       "      <td>Homo sapiens</td>\n",
       "      <td>uncharacterized protein YMR315W</td>\n",
       "      <td>False</td>\n",
       "    </tr>\n",
       "  </tbody>\n",
       "</table>\n",
       "</div>"
      ],
      "text/plain": [
       "         query          hit    evalue  score  \\\n",
       "0  NP_000005.3  NP_010559.3  1.178900   69.0   \n",
       "1  NP_000005.3  NP_013589.1  1.923510   68.0   \n",
       "2  NP_000005.3  NP_011499.1  3.924640   65.0   \n",
       "3  NP_000005.3  NP_011712.1  5.563450   64.0   \n",
       "4  NP_000005.3  NP_014030.1  5.962150   64.0   \n",
       "5  NP_000005.3  NP_013769.1  6.735800   63.0   \n",
       "6  NP_000005.3  NP_013324.1  7.781390   63.0   \n",
       "7  NP_000006.2  NP_014376.3  0.689947   64.0   \n",
       "8  NP_000006.2  NP_014217.1  1.681420   61.0   \n",
       "9  NP_000006.2  NP_014046.1  1.772510   61.0   \n",
       "\n",
       "                                       q_desc      organism  \\\n",
       "0  alpha-2-macroglobulin isoform a precursor   Homo sapiens   \n",
       "1  alpha-2-macroglobulin isoform a precursor   Homo sapiens   \n",
       "2  alpha-2-macroglobulin isoform a precursor   Homo sapiens   \n",
       "3  alpha-2-macroglobulin isoform a precursor   Homo sapiens   \n",
       "4  alpha-2-macroglobulin isoform a precursor   Homo sapiens   \n",
       "5  alpha-2-macroglobulin isoform a precursor   Homo sapiens   \n",
       "6  alpha-2-macroglobulin isoform a precursor   Homo sapiens   \n",
       "7            arylamine N-acetyltransferase 2   Homo sapiens   \n",
       "8            arylamine N-acetyltransferase 2   Homo sapiens   \n",
       "9            arylamine N-acetyltransferase 2   Homo sapiens   \n",
       "\n",
       "                                              h_desc    min  \n",
       "0                                             Don1p    True  \n",
       "1                                             Nab6p   False  \n",
       "2                                           Kap122p   False  \n",
       "3                                             Fyv8p   False  \n",
       "4  ATP-binding cassette Fe/S cluster precursor tr...  False  \n",
       "5                                             Stb2p   False  \n",
       "6                                             Ifh1p   False  \n",
       "7        rRNA (cytosine-C5-)-methyltransferase RCM1    True  \n",
       "8  chromatin-binding/pre-rRNA-processing protein ...  False  \n",
       "9                   uncharacterized protein YMR315W   False  "
      ]
     },
     "execution_count": 24,
     "metadata": {},
     "output_type": "execute_result"
    }
   ],
   "source": [
    "df.head(10)"
   ]
  },
  {
   "cell_type": "code",
   "execution_count": 1,
   "metadata": {},
   "outputs": [],
   "source": [
    "# tools\n",
    "import time\n",
    "import csv\n",
    "import pandas as pd\n",
    "from Bio.Blast import NCBIXML\n",
    "import networkx as nx\n",
    "import matplotlib.pyplot as plt\n",
    "%matplotlib inline\n",
    "\n",
    "import dask.dataframe as dd\n",
    "from Bio import Entrez, SeqIO\n",
    "from Bio.Blast import NCBIWWW, NCBIXML"
   ]
  },
  {
   "cell_type": "code",
   "execution_count": 3,
   "metadata": {},
   "outputs": [],
   "source": [
    "# parse blast data (takes time)\n",
    "with open('yeast_query.xml') as result_handle, open('yeast_query.tsv', 'w', newline='') as csvout:\n",
    "    writer = csv.writer(csvout, delimiter='\\t')\n",
    "    for blast_result in NCBIXML.parse(result_handle):\n",
    "        q = blast_result.query\n",
    "        for desc in blast_result.descriptions:\n",
    "            hit = desc.title\n",
    "            e = desc.e\n",
    "            score = desc.score\n",
    "            writer.writerow([q, hit, e, score, 'yeast'])\n",
    "\n",
    "# get human query data\n",
    "with open('human_query.xml') as result_handle, open('human_query.tsv', 'w', newline='') as csvout:\n",
    "    writer = csv.writer(csvout, delimiter='\\t')\n",
    "    for blast_result in NCBIXML.parse(result_handle):\n",
    "        q = blast_result.query\n",
    "        for desc in blast_result.descriptions:\n",
    "            hit = desc.title\n",
    "            e = desc.e\n",
    "            score = desc.score\n",
    "            writer.writerow([q, hit, e, score, 'human'])"
   ]
  },
  {
   "cell_type": "code",
   "execution_count": null,
   "metadata": {},
   "outputs": [],
   "source": [
    "# organize the parsed files\n",
    "files = ['yeast_query.tsv','human_query.tsv']\n",
    "\n",
    "dfs = [pd.read_csv(f, sep='\\t', names=['query','hit','evalue', 'score', 'organism']) for f in files]\n",
    "\n",
    "df = pd.concat(dfs)\n",
    "\n",
    "df['q_desc'] = df['query'].str.split('[').str[0].str.split(' ', 1).str[1]\n",
    "df['organism'] = df['query'].str.rsplit(\"[\",1).str[1].str[:-1]\n",
    "df['query'] = df['query'].str.split(' ').str[0]\n",
    "df['h_desc'] = df['hit'].str.split('[').str[0].str.split(' ',2).str[2]\n",
    "df['hit'] = df['hit'].str.split(' ').str[1]\n",
    "\n",
    "mins_df=pd.DataFrame(df.groupby('query')['evalue'].min())\n",
    "mins_df['min']=True\n",
    "final_output=df.merge(mins_df, how='left', left_on=['query','evalue'], right_on=['query','evalue'])\n",
    "final_output.fillna(False, inplace=True)\n",
    "\n",
    "df = df.sort_values(by=['organism','query','evalue'])\n",
    "df.reset_index(drop=True, inplace=True)\n",
    "\n",
    "df.to_csv('data.csv', index=False)"
   ]
  },
  {
   "cell_type": "code",
   "execution_count": 1,
   "metadata": {},
   "outputs": [
    {
     "ename": "NameError",
     "evalue": "name 'df' is not defined",
     "output_type": "error",
     "traceback": [
      "\u001b[0;31m---------------------------------------------------------------------------\u001b[0m",
      "\u001b[0;31mNameError\u001b[0m                                 Traceback (most recent call last)",
      "\u001b[0;32m<ipython-input-1-633337079cd0>\u001b[0m in \u001b[0;36m<module>\u001b[0;34m\u001b[0m\n\u001b[0;32m----> 1\u001b[0;31m \u001b[0mdf\u001b[0m\u001b[0;34m.\u001b[0m\u001b[0mshape\u001b[0m\u001b[0;34m\u001b[0m\u001b[0;34m\u001b[0m\u001b[0m\n\u001b[0m",
      "\u001b[0;31mNameError\u001b[0m: name 'df' is not defined"
     ]
    }
   ],
   "source": [
    "df.shape"
   ]
  },
  {
   "cell_type": "code",
   "execution_count": null,
   "metadata": {},
   "outputs": [],
   "source": [
    "# test query\n",
    "# true case\n",
    "a = 'NP_006436.3'\n",
    "b = 'NP_012035.1'\n",
    "\n",
    "c = final_output.lo`a\n",
    "c[(final_output['query'] == a) & (final_output['hit'] == b), 'min']\n",
    "d = final_output.loc[(final_output['query'] == b) & (final_output['hit'] == c), 'min']\n",
    "c.bool() == c.bool()"
   ]
  },
  {
   "cell_type": "code",
   "execution_count": null,
   "metadata": {},
   "outputs": [],
   "source": [
    "# false case\n",
    "a = 'NP_006436.3'\n",
    "b = 'NP_013267.1'\n",
    "\n",
    "c = final_output.loc[(final_output['query'] == a) & (final_output['hit'] == b), 'min']\n",
    "d = final_output.loc[(final_output['query'] == b) & (final_output['hit'] == a), 'min']\n",
    "c.bool() == d.bool()"
   ]
  },
  {
   "cell_type": "code",
   "execution_count": null,
   "metadata": {},
   "outputs": [],
   "source": []
  },
  {
   "cell_type": "code",
   "execution_count": null,
   "metadata": {},
   "outputs": [],
   "source": []
  },
  {
   "cell_type": "code",
   "execution_count": null,
   "metadata": {},
   "outputs": [],
   "source": []
  },
  {
   "cell_type": "code",
   "execution_count": null,
   "metadata": {},
   "outputs": [],
   "source": []
  },
  {
   "cell_type": "code",
   "execution_count": 5,
   "metadata": {},
   "outputs": [],
   "source": [
    "# yeast\n",
    "df_yeast = pd.read_csv('yeast_query.tsv', sep='\\t', names=['query','hit','evalue', 'score', 'organism'])\n",
    "df_yeast['q_desc'] = df_yeast['query'].str.split('[').str[0].str.split(' ', 1).str[1]\n",
    "df_yeast['query'] = df_yeast['query'].str.split(' ').str[0]\n",
    "df_yeast['h_desc'] = df_yeast['hit'].str.split('[').str[0].str.split(' ',2).str[2]\n",
    "df_yeast['hit'] = df_yeast['hit'].str.split(' ').str[1]"
   ]
  },
  {
   "cell_type": "code",
   "execution_count": 6,
   "metadata": {},
   "outputs": [],
   "source": [
    "df_human = pd.read_csv('human_query.tsv', sep='\\t', names=['query','hit','evalue', 'score', 'organism'])\n",
    "df_human['q_desc'] = df_human['query'].str.split('[').str[0].str.split(' ', 1).str[1]\n",
    "df_human['query'] = df_human['query'].str.split(' ').str[0]\n",
    "df_human['h_desc'] = df_human['hit'].str.split('[').str[0].str.split(' ',2).str[2]\n",
    "df_human['hit'] = df_human['hit'].str.split(' ').str[1]"
   ]
  },
  {
   "cell_type": "code",
   "execution_count": null,
   "metadata": {},
   "outputs": [],
   "source": [
    "df_yeast.to_csv('yeast.csv', index=False)\n",
    "df_human.to_csv('human.csv', index=False)"
   ]
  },
  {
   "cell_type": "code",
   "execution_count": 7,
   "metadata": {},
   "outputs": [],
   "source": [
    "# combine\n",
    "df = pd.concat([df_yeast, df_human])"
   ]
  },
  {
   "cell_type": "code",
   "execution_count": 70,
   "metadata": {},
   "outputs": [],
   "source": [
    "# create 'min' column\n",
    "\n",
    "# save the minimums as a dataframe, and set value of new-variable 'minimum' to True\n",
    "mins_df=pd.DataFrame(df.groupby('query')['evalue'].min())\n",
    "mins_df['min']=True\n",
    "\n",
    "#left join the minimums_df onto the original df.\n",
    "df=df.merge(mins_df, how='left', left_on=['query','evalue'], right_on=['query','evalue'])\n",
    "\n",
    "#replace the NaN with False, i.e. those that were not in mins_df\n",
    "df.fillna(False, inplace=True)\n",
    "\n",
    "df.to_csv('data.csv', index=False)"
   ]
  },
  {
   "cell_type": "code",
   "execution_count": 69,
   "metadata": {},
   "outputs": [
    {
     "data": {
      "text/plain": [
       "(2124377, 7)"
      ]
     },
     "execution_count": 69,
     "metadata": {},
     "output_type": "execute_result"
    }
   ],
   "source": [
    "df.shape"
   ]
  },
  {
   "cell_type": "code",
   "execution_count": null,
   "metadata": {},
   "outputs": [],
   "source": [
    "# should now have everything saved\n",
    "# currently trying to get boolean columns for is minimum\n",
    "# then need a function to scan just the minimums and put them aside (maybe with index method?)\n",
    "# no method for finding mutual lowpoint"
   ]
  },
  {
   "cell_type": "code",
   "execution_count": 10,
   "metadata": {},
   "outputs": [
    {
     "data": {
      "text/plain": [
       "(395851, 7)"
      ]
     },
     "execution_count": 10,
     "metadata": {},
     "output_type": "execute_result"
    }
   ],
   "source": [
    "df_yeast = pd.read_csv('yeast.csv')\n",
    "df_yeast.shape"
   ]
  },
  {
   "cell_type": "code",
   "execution_count": 2,
   "metadata": {},
   "outputs": [
    {
     "data": {
      "text/plain": [
       "(2124377, 7)"
      ]
     },
     "execution_count": 2,
     "metadata": {},
     "output_type": "execute_result"
    }
   ],
   "source": [
    "df = pd.read_csv('data.csv')\n",
    "df.shape"
   ]
  },
  {
   "cell_type": "code",
   "execution_count": 4,
   "metadata": {},
   "outputs": [
    {
     "data": {
      "text/plain": [
       "RangeIndex(start=0, stop=2124377, step=1)"
      ]
     },
     "execution_count": 4,
     "metadata": {},
     "output_type": "execute_result"
    }
   ],
   "source": [
    "df.index"
   ]
  },
  {
   "cell_type": "code",
   "execution_count": 9,
   "metadata": {},
   "outputs": [
    {
     "data": {
      "text/plain": [
       "human    1728526\n",
       "yeast     395851\n",
       "Name: organism, dtype: int64"
      ]
     },
     "execution_count": 9,
     "metadata": {},
     "output_type": "execute_result"
    }
   ],
   "source": [
    "df['organism'].value_counts()"
   ]
  },
  {
   "cell_type": "code",
   "execution_count": 11,
   "metadata": {},
   "outputs": [],
   "source": [
    "# try tom's solution\n",
    "ts1=time.time()\n",
    "\n",
    "# save the minimums as a dataframe, and set value of new-variable 'minimum' to True\n",
    "mins_df=pd.DataFrame(df.groupby('query')['evalue'].min())\n",
    "mins_df['min']=True\n",
    "\n",
    "#left join the minimums_df onto the original df.\n",
    "final_output=df.merge(mins_df, how='left', left_on=['query','evalue'], right_on=['query','evalue'])\n",
    "\n",
    "#replace the NaN with False, i.e. those that were not in mins_df\n",
    "final_output.fillna(False, inplace=True)\n",
    "\n",
    "print(time.time() - ts1, \" seconds elapsed\")"
   ]
  },
  {
   "cell_type": "code",
   "execution_count": 21,
   "metadata": {},
   "outputs": [
    {
     "data": {
      "text/html": [
       "<div>\n",
       "<style scoped>\n",
       "    .dataframe tbody tr th:only-of-type {\n",
       "        vertical-align: middle;\n",
       "    }\n",
       "\n",
       "    .dataframe tbody tr th {\n",
       "        vertical-align: top;\n",
       "    }\n",
       "\n",
       "    .dataframe thead th {\n",
       "        text-align: right;\n",
       "    }\n",
       "</style>\n",
       "<table border=\"1\" class=\"dataframe\">\n",
       "  <thead>\n",
       "    <tr style=\"text-align: right;\">\n",
       "      <th>min</th>\n",
       "      <th>False</th>\n",
       "      <th>True</th>\n",
       "    </tr>\n",
       "    <tr>\n",
       "      <th>query</th>\n",
       "      <th></th>\n",
       "      <th></th>\n",
       "    </tr>\n",
       "  </thead>\n",
       "  <tbody>\n",
       "    <tr>\n",
       "      <th>NP_000005.3</th>\n",
       "      <td>6</td>\n",
       "      <td>1</td>\n",
       "    </tr>\n",
       "    <tr>\n",
       "      <th>NP_000006.2</th>\n",
       "      <td>4</td>\n",
       "      <td>1</td>\n",
       "    </tr>\n",
       "    <tr>\n",
       "      <th>NP_000007.1</th>\n",
       "      <td>4</td>\n",
       "      <td>1</td>\n",
       "    </tr>\n",
       "    <tr>\n",
       "      <th>NP_000008.1</th>\n",
       "      <td>3</td>\n",
       "      <td>1</td>\n",
       "    </tr>\n",
       "    <tr>\n",
       "      <th>NP_000009.1</th>\n",
       "      <td>4</td>\n",
       "      <td>1</td>\n",
       "    </tr>\n",
       "    <tr>\n",
       "      <th>...</th>\n",
       "      <td>...</td>\n",
       "      <td>...</td>\n",
       "    </tr>\n",
       "    <tr>\n",
       "      <th>YP_003024033.1</th>\n",
       "      <td>2</td>\n",
       "      <td>1</td>\n",
       "    </tr>\n",
       "    <tr>\n",
       "      <th>YP_003024035.1</th>\n",
       "      <td>7</td>\n",
       "      <td>1</td>\n",
       "    </tr>\n",
       "    <tr>\n",
       "      <th>YP_003024036.1</th>\n",
       "      <td>0</td>\n",
       "      <td>1</td>\n",
       "    </tr>\n",
       "    <tr>\n",
       "      <th>YP_003024037.1</th>\n",
       "      <td>2</td>\n",
       "      <td>1</td>\n",
       "    </tr>\n",
       "    <tr>\n",
       "      <th>YP_003024038.1</th>\n",
       "      <td>5</td>\n",
       "      <td>1</td>\n",
       "    </tr>\n",
       "  </tbody>\n",
       "</table>\n",
       "<p>117768 rows × 2 columns</p>\n",
       "</div>"
      ],
      "text/plain": [
       "min             False  True \n",
       "query                       \n",
       "NP_000005.3         6      1\n",
       "NP_000006.2         4      1\n",
       "NP_000007.1         4      1\n",
       "NP_000008.1         3      1\n",
       "NP_000009.1         4      1\n",
       "...               ...    ...\n",
       "YP_003024033.1      2      1\n",
       "YP_003024035.1      7      1\n",
       "YP_003024036.1      0      1\n",
       "YP_003024037.1      2      1\n",
       "YP_003024038.1      5      1\n",
       "\n",
       "[117768 rows x 2 columns]"
      ]
     },
     "execution_count": 21,
     "metadata": {},
     "output_type": "execute_result"
    }
   ],
   "source": [
    "cross_df = pd.DataFrame(pd.crosstab(final_output['query'], final_output['min'], dropna=False))"
   ]
  },
  {
   "cell_type": "code",
   "execution_count": 40,
   "metadata": {},
   "outputs": [
    {
     "data": {
      "text/plain": [
       "1030738    True\n",
       "Name: min, dtype: bool"
      ]
     },
     "execution_count": 40,
     "metadata": {},
     "output_type": "execute_result"
    }
   ],
   "source": [
    "# true case\n",
    "a = 'NP_006436.3'\n",
    "b = 'NP_012035.1'\n",
    "\n",
    "c = final_output.loc[(final_output['query'] == a) & (final_output['hit'] == b), 'min']\n",
    "d = final_output.loc[(final_output['query'] == b) & (final_output['hit'] == c), 'min']\n",
    "c.bool() == c.bool()"
   ]
  },
  {
   "cell_type": "code",
   "execution_count": 52,
   "metadata": {},
   "outputs": [
    {
     "ename": "ValueError",
     "evalue": "The truth value of a Series is ambiguous. Use a.empty, a.bool(), a.item(), a.any() or a.all().",
     "output_type": "error",
     "traceback": [
      "\u001b[0;31m---------------------------------------------------------------------------\u001b[0m",
      "\u001b[0;31mValueError\u001b[0m                                Traceback (most recent call last)",
      "\u001b[0;32m<ipython-input-52-85aaf63d64f5>\u001b[0m in \u001b[0;36m<module>\u001b[0;34m\u001b[0m\n\u001b[1;32m      4\u001b[0m \u001b[0mc\u001b[0m \u001b[0;34m=\u001b[0m \u001b[0mfinal_output\u001b[0m\u001b[0;34m.\u001b[0m\u001b[0mloc\u001b[0m\u001b[0;34m[\u001b[0m\u001b[0;34m(\u001b[0m\u001b[0mfinal_output\u001b[0m\u001b[0;34m[\u001b[0m\u001b[0;34m'query'\u001b[0m\u001b[0;34m]\u001b[0m \u001b[0;34m==\u001b[0m \u001b[0ma\u001b[0m\u001b[0;34m)\u001b[0m \u001b[0;34m&\u001b[0m \u001b[0;34m(\u001b[0m\u001b[0mfinal_output\u001b[0m\u001b[0;34m[\u001b[0m\u001b[0;34m'hit'\u001b[0m\u001b[0;34m]\u001b[0m \u001b[0;34m==\u001b[0m \u001b[0mb\u001b[0m\u001b[0;34m)\u001b[0m\u001b[0;34m,\u001b[0m \u001b[0;34m'min'\u001b[0m\u001b[0;34m]\u001b[0m\u001b[0;34m\u001b[0m\u001b[0;34m\u001b[0m\u001b[0m\n\u001b[1;32m      5\u001b[0m \u001b[0md\u001b[0m \u001b[0;34m=\u001b[0m \u001b[0mfinal_output\u001b[0m\u001b[0;34m.\u001b[0m\u001b[0mloc\u001b[0m\u001b[0;34m[\u001b[0m\u001b[0;34m(\u001b[0m\u001b[0mfinal_output\u001b[0m\u001b[0;34m[\u001b[0m\u001b[0;34m'query'\u001b[0m\u001b[0;34m]\u001b[0m \u001b[0;34m==\u001b[0m \u001b[0mb\u001b[0m\u001b[0;34m)\u001b[0m \u001b[0;34m&\u001b[0m \u001b[0;34m(\u001b[0m\u001b[0mfinal_output\u001b[0m\u001b[0;34m[\u001b[0m\u001b[0;34m'hit'\u001b[0m\u001b[0;34m]\u001b[0m \u001b[0;34m==\u001b[0m \u001b[0ma\u001b[0m\u001b[0;34m)\u001b[0m\u001b[0;34m,\u001b[0m \u001b[0;34m'min'\u001b[0m\u001b[0;34m]\u001b[0m\u001b[0;34m\u001b[0m\u001b[0;34m\u001b[0m\u001b[0m\n\u001b[0;32m----> 6\u001b[0;31m \u001b[0mc\u001b[0m\u001b[0;34m.\u001b[0m\u001b[0mbool\u001b[0m\u001b[0;34m(\u001b[0m\u001b[0;34m)\u001b[0m \u001b[0;34m==\u001b[0m \u001b[0md\u001b[0m\u001b[0;34m.\u001b[0m\u001b[0mbool\u001b[0m\u001b[0;34m(\u001b[0m\u001b[0;34m)\u001b[0m\u001b[0;34m\u001b[0m\u001b[0;34m\u001b[0m\u001b[0m\n\u001b[0m",
      "\u001b[0;32m/usr/local/anaconda3/envs/524_env/lib/python3.7/site-packages/pandas/core/generic.py\u001b[0m in \u001b[0;36mbool\u001b[0;34m(self)\u001b[0m\n\u001b[1;32m   1581\u001b[0m             )\n\u001b[1;32m   1582\u001b[0m \u001b[0;34m\u001b[0m\u001b[0m\n\u001b[0;32m-> 1583\u001b[0;31m         \u001b[0mself\u001b[0m\u001b[0;34m.\u001b[0m\u001b[0m__nonzero__\u001b[0m\u001b[0;34m(\u001b[0m\u001b[0;34m)\u001b[0m\u001b[0;34m\u001b[0m\u001b[0;34m\u001b[0m\u001b[0m\n\u001b[0m\u001b[1;32m   1584\u001b[0m \u001b[0;34m\u001b[0m\u001b[0m\n\u001b[1;32m   1585\u001b[0m     \u001b[0;32mdef\u001b[0m \u001b[0m__abs__\u001b[0m\u001b[0;34m(\u001b[0m\u001b[0mself\u001b[0m\u001b[0;34m)\u001b[0m\u001b[0;34m:\u001b[0m\u001b[0;34m\u001b[0m\u001b[0;34m\u001b[0m\u001b[0m\n",
      "\u001b[0;32m/usr/local/anaconda3/envs/524_env/lib/python3.7/site-packages/pandas/core/generic.py\u001b[0m in \u001b[0;36m__nonzero__\u001b[0;34m(self)\u001b[0m\n\u001b[1;32m   1553\u001b[0m             \u001b[0;34m\"The truth value of a {0} is ambiguous. \"\u001b[0m\u001b[0;34m\u001b[0m\u001b[0;34m\u001b[0m\u001b[0m\n\u001b[1;32m   1554\u001b[0m             \"Use a.empty, a.bool(), a.item(), a.any() or a.all().\".format(\n\u001b[0;32m-> 1555\u001b[0;31m                 \u001b[0mself\u001b[0m\u001b[0;34m.\u001b[0m\u001b[0m__class__\u001b[0m\u001b[0;34m.\u001b[0m\u001b[0m__name__\u001b[0m\u001b[0;34m\u001b[0m\u001b[0;34m\u001b[0m\u001b[0m\n\u001b[0m\u001b[1;32m   1556\u001b[0m             )\n\u001b[1;32m   1557\u001b[0m         )\n",
      "\u001b[0;31mValueError\u001b[0m: The truth value of a Series is ambiguous. Use a.empty, a.bool(), a.item(), a.any() or a.all()."
     ]
    }
   ],
   "source": [
    "# false case\n",
    "a = 'NP_006436.3'\n",
    "b = 'NP_013267.1'\n",
    "\n",
    "c = final_output.loc[(final_output['query'] == a) & (final_output['hit'] == b), 'min']\n",
    "d = final_output.loc[(final_output['query'] == b) & (final_output['hit'] == a), 'min']\n",
    "c.bool() == d.bool()"
   ]
  },
  {
   "cell_type": "code",
   "execution_count": 55,
   "metadata": {},
   "outputs": [
    {
     "data": {
      "text/html": [
       "<div>\n",
       "<style scoped>\n",
       "    .dataframe tbody tr th:only-of-type {\n",
       "        vertical-align: middle;\n",
       "    }\n",
       "\n",
       "    .dataframe tbody tr th {\n",
       "        vertical-align: top;\n",
       "    }\n",
       "\n",
       "    .dataframe thead th {\n",
       "        text-align: right;\n",
       "    }\n",
       "</style>\n",
       "<table border=\"1\" class=\"dataframe\">\n",
       "  <thead>\n",
       "    <tr style=\"text-align: right;\">\n",
       "      <th></th>\n",
       "      <th>query</th>\n",
       "      <th>hit</th>\n",
       "      <th>evalue</th>\n",
       "      <th>score</th>\n",
       "      <th>organism</th>\n",
       "      <th>q_desc</th>\n",
       "      <th>h_desc</th>\n",
       "      <th>min</th>\n",
       "    </tr>\n",
       "  </thead>\n",
       "  <tbody>\n",
       "  </tbody>\n",
       "</table>\n",
       "</div>"
      ],
      "text/plain": [
       "Empty DataFrame\n",
       "Columns: [query, hit, evalue, score, organism, q_desc, h_desc, min]\n",
       "Index: []"
      ]
     },
     "execution_count": 55,
     "metadata": {},
     "output_type": "execute_result"
    }
   ],
   "source": [
    "final_output.loc[(final_output['query'] == b) & (final_output['hit'] == a)]"
   ]
  },
  {
   "cell_type": "code",
   "execution_count": 60,
   "metadata": {},
   "outputs": [
    {
     "data": {
      "text/plain": [
       "Series([], Name: min, dtype: bool)"
      ]
     },
     "execution_count": 60,
     "metadata": {},
     "output_type": "execute_result"
    }
   ],
   "source": [
    "a = 'NP_006436.3'\n",
    "b = 'NP_013267.1'\n",
    "if ((final_output['query'] == a) & (df['hit'] == b)).any():\n",
    "    c = final_output.loc[(final_output['query'] == a) & (final_output['hit'] == b), 'min'].bool()\n",
    "# reverse\n",
    "if ((final_output['query'] == b) & (df['hit'] == a)).any():\n",
    "    d = final_output.loc[(final_output['query'] == b) & (final_output['hit'] == a), 'min'].bool()\n",
    "c == d"
   ]
  },
  {
   "cell_type": "code",
   "execution_count": 65,
   "metadata": {},
   "outputs": [],
   "source": [
    "# false case\n",
    "a = 'NP_001018030.1'\n",
    "b = 'XP_011536148.1'\n",
    "c = final_output.loc[(final_output['query'] == a) & (final_output['hit'] == b), 'min'].bool()\n",
    "d = final_output.loc[(final_output['query'] == b) & (final_output['hit'] == a), 'min'].bool()"
   ]
  },
  {
   "cell_type": "code",
   "execution_count": 66,
   "metadata": {},
   "outputs": [
    {
     "data": {
      "text/plain": [
       "False"
      ]
     },
     "execution_count": 66,
     "metadata": {},
     "output_type": "execute_result"
    }
   ],
   "source": [
    "c == d"
   ]
  },
  {
   "cell_type": "code",
   "execution_count": 64,
   "metadata": {},
   "outputs": [
    {
     "data": {
      "text/html": [
       "<div>\n",
       "<style scoped>\n",
       "    .dataframe tbody tr th:only-of-type {\n",
       "        vertical-align: middle;\n",
       "    }\n",
       "\n",
       "    .dataframe tbody tr th {\n",
       "        vertical-align: top;\n",
       "    }\n",
       "\n",
       "    .dataframe thead th {\n",
       "        text-align: right;\n",
       "    }\n",
       "</style>\n",
       "<table border=\"1\" class=\"dataframe\">\n",
       "  <thead>\n",
       "    <tr style=\"text-align: right;\">\n",
       "      <th></th>\n",
       "      <th>query</th>\n",
       "      <th>hit</th>\n",
       "      <th>evalue</th>\n",
       "      <th>score</th>\n",
       "      <th>organism</th>\n",
       "      <th>q_desc</th>\n",
       "      <th>h_desc</th>\n",
       "      <th>min</th>\n",
       "    </tr>\n",
       "  </thead>\n",
       "  <tbody>\n",
       "    <tr>\n",
       "      <th>1608952</th>\n",
       "      <td>XP_011536148.1</td>\n",
       "      <td>NP_001018030.1</td>\n",
       "      <td>1.443400e-57</td>\n",
       "      <td>477.0</td>\n",
       "      <td>human</td>\n",
       "      <td>serine dehydratase-like isoform X2</td>\n",
       "      <td>L-serine/L-threonine ammonia-lyase CHA1</td>\n",
       "      <td>True</td>\n",
       "    </tr>\n",
       "  </tbody>\n",
       "</table>\n",
       "</div>"
      ],
      "text/plain": [
       "                  query             hit        evalue  score organism  \\\n",
       "1608952  XP_011536148.1  NP_001018030.1  1.443400e-57  477.0    human   \n",
       "\n",
       "                                      q_desc  \\\n",
       "1608952  serine dehydratase-like isoform X2    \n",
       "\n",
       "                                           h_desc   min  \n",
       "1608952  L-serine/L-threonine ammonia-lyase CHA1   True  "
      ]
     },
     "execution_count": 64,
     "metadata": {},
     "output_type": "execute_result"
    }
   ],
   "source": [
    "final_output.loc[(final_output['query'] == b) & (final_output['hit'] == a)]"
   ]
  },
  {
   "cell_type": "code",
   "execution_count": 29,
   "metadata": {},
   "outputs": [
    {
     "data": {
      "text/html": [
       "<div>\n",
       "<style scoped>\n",
       "    .dataframe tbody tr th:only-of-type {\n",
       "        vertical-align: middle;\n",
       "    }\n",
       "\n",
       "    .dataframe tbody tr th {\n",
       "        vertical-align: top;\n",
       "    }\n",
       "\n",
       "    .dataframe thead th {\n",
       "        text-align: right;\n",
       "    }\n",
       "</style>\n",
       "<table border=\"1\" class=\"dataframe\">\n",
       "  <thead>\n",
       "    <tr style=\"text-align: right;\">\n",
       "      <th></th>\n",
       "      <th>query</th>\n",
       "      <th>hit</th>\n",
       "      <th>evalue</th>\n",
       "      <th>score</th>\n",
       "      <th>organism</th>\n",
       "      <th>q_desc</th>\n",
       "      <th>h_desc</th>\n",
       "      <th>min</th>\n",
       "    </tr>\n",
       "  </thead>\n",
       "  <tbody>\n",
       "    <tr>\n",
       "      <th>0</th>\n",
       "      <td>NP_001018030.1</td>\n",
       "      <td>NP_006834.2</td>\n",
       "      <td>6.047210e-40</td>\n",
       "      <td>367.0</td>\n",
       "      <td>yeast</td>\n",
       "      <td>L-serine/L-threonine ammonia-lyase CHA1</td>\n",
       "      <td>L-serine dehydratase/L-threonine deaminase</td>\n",
       "      <td>True</td>\n",
       "    </tr>\n",
       "    <tr>\n",
       "      <th>1</th>\n",
       "      <td>NP_001018030.1</td>\n",
       "      <td>XP_011536148.1</td>\n",
       "      <td>2.964610e-37</td>\n",
       "      <td>348.0</td>\n",
       "      <td>yeast</td>\n",
       "      <td>L-serine/L-threonine ammonia-lyase CHA1</td>\n",
       "      <td>serine dehydratase-like isoform X2</td>\n",
       "      <td>False</td>\n",
       "    </tr>\n",
       "    <tr>\n",
       "      <th>2</th>\n",
       "      <td>NP_001018030.1</td>\n",
       "      <td>XP_005253888.1</td>\n",
       "      <td>2.964610e-37</td>\n",
       "      <td>348.0</td>\n",
       "      <td>yeast</td>\n",
       "      <td>L-serine/L-threonine ammonia-lyase CHA1</td>\n",
       "      <td>serine dehydratase-like isoform X2</td>\n",
       "      <td>False</td>\n",
       "    </tr>\n",
       "    <tr>\n",
       "      <th>3</th>\n",
       "      <td>NP_001018030.1</td>\n",
       "      <td>NP_612441.1</td>\n",
       "      <td>2.964610e-37</td>\n",
       "      <td>348.0</td>\n",
       "      <td>yeast</td>\n",
       "      <td>L-serine/L-threonine ammonia-lyase CHA1</td>\n",
       "      <td>serine dehydratase-like</td>\n",
       "      <td>False</td>\n",
       "    </tr>\n",
       "    <tr>\n",
       "      <th>4</th>\n",
       "      <td>NP_001018030.1</td>\n",
       "      <td>NP_001291922.1</td>\n",
       "      <td>2.964610e-37</td>\n",
       "      <td>348.0</td>\n",
       "      <td>yeast</td>\n",
       "      <td>L-serine/L-threonine ammonia-lyase CHA1</td>\n",
       "      <td>serine dehydratase-like</td>\n",
       "      <td>False</td>\n",
       "    </tr>\n",
       "  </tbody>\n",
       "</table>\n",
       "</div>"
      ],
      "text/plain": [
       "            query             hit        evalue  score organism  \\\n",
       "0  NP_001018030.1     NP_006834.2  6.047210e-40  367.0    yeast   \n",
       "1  NP_001018030.1  XP_011536148.1  2.964610e-37  348.0    yeast   \n",
       "2  NP_001018030.1  XP_005253888.1  2.964610e-37  348.0    yeast   \n",
       "3  NP_001018030.1     NP_612441.1  2.964610e-37  348.0    yeast   \n",
       "4  NP_001018030.1  NP_001291922.1  2.964610e-37  348.0    yeast   \n",
       "\n",
       "                                     q_desc  \\\n",
       "0  L-serine/L-threonine ammonia-lyase CHA1    \n",
       "1  L-serine/L-threonine ammonia-lyase CHA1    \n",
       "2  L-serine/L-threonine ammonia-lyase CHA1    \n",
       "3  L-serine/L-threonine ammonia-lyase CHA1    \n",
       "4  L-serine/L-threonine ammonia-lyase CHA1    \n",
       "\n",
       "                                        h_desc    min  \n",
       "0  L-serine dehydratase/L-threonine deaminase    True  \n",
       "1          serine dehydratase-like isoform X2   False  \n",
       "2          serine dehydratase-like isoform X2   False  \n",
       "3                     serine dehydratase-like   False  \n",
       "4                     serine dehydratase-like   False  "
      ]
     },
     "execution_count": 29,
     "metadata": {},
     "output_type": "execute_result"
    }
   ],
   "source": [
    "final_output.head()"
   ]
  },
  {
   "cell_type": "code",
   "execution_count": 18,
   "metadata": {},
   "outputs": [
    {
     "data": {
      "text/plain": [
       "9.99698"
      ]
     },
     "execution_count": 18,
     "metadata": {},
     "output_type": "execute_result"
    }
   ],
   "source": [
    "mins_df['evalue'].max()"
   ]
  },
  {
   "cell_type": "code",
   "execution_count": 169,
   "metadata": {},
   "outputs": [
    {
     "data": {
      "text/plain": [
       "117768"
      ]
     },
     "execution_count": 169,
     "metadata": {},
     "output_type": "execute_result"
    }
   ],
   "source": [
    "df['query'].nunique()"
   ]
  },
  {
   "cell_type": "code",
   "execution_count": 10,
   "metadata": {},
   "outputs": [],
   "source": [
    "new_df = dd.from_pandas(df, 24)"
   ]
  },
  {
   "cell_type": "code",
   "execution_count": 11,
   "metadata": {},
   "outputs": [],
   "source": [
    "# sort: organism, query, evalue\n",
    "# reindex\n",
    "df = df.sort_values(by=['organism','query','evalue'])\n",
    "\n",
    "df.reset_index(drop=True, inplace=True)"
   ]
  },
  {
   "cell_type": "code",
   "execution_count": 12,
   "metadata": {},
   "outputs": [],
   "source": [
    "# need a minimum column, bool\n",
    "def is_min(row):\n",
    "    # get the minimum quantity for the given category value\n",
    "    cat_min = df[df['query'] == row['query']]['evalue'].min()\n",
    "    # get the minimum quantity for the current row\n",
    "    row_min = row['evalue']\n",
    "    return cat_min == row_min\n",
    "\n",
    "new_df['is_min'] = new_df.apply(lambda x: is_min(x), axis=1, meta='bool')"
   ]
  },
  {
   "cell_type": "code",
   "execution_count": null,
   "metadata": {},
   "outputs": [],
   "source": [
    "pand_df = new_df.compute()"
   ]
  },
  {
   "cell_type": "code",
   "execution_count": null,
   "metadata": {},
   "outputs": [],
   "source": [
    "df['is_min'] = df.apply(lambda x: is_min(x), axis=1)"
   ]
  },
  {
   "cell_type": "code",
   "execution_count": null,
   "metadata": {},
   "outputs": [],
   "source": [
    "pand_df.to_csv('pand_df.csv', index=False)"
   ]
  },
  {
   "cell_type": "code",
   "execution_count": null,
   "metadata": {},
   "outputs": [],
   "source": [
    "df.to_csv('is_min.csv', index=False)"
   ]
  },
  {
   "cell_type": "code",
   "execution_count": null,
   "metadata": {},
   "outputs": [],
   "source": []
  },
  {
   "cell_type": "code",
   "execution_count": null,
   "metadata": {},
   "outputs": [],
   "source": []
  },
  {
   "cell_type": "code",
   "execution_count": null,
   "metadata": {},
   "outputs": [],
   "source": []
  },
  {
   "cell_type": "code",
   "execution_count": null,
   "metadata": {},
   "outputs": [],
   "source": [
    "df.apply(lambda x: check_min(x), axis=1)"
   ]
  },
  {
   "cell_type": "code",
   "execution_count": null,
   "metadata": {},
   "outputs": [],
   "source": [
    "df.groupby('query')['evalue'].idxmin(axis=0)"
   ]
  },
  {
   "cell_type": "code",
   "execution_count": 163,
   "metadata": {},
   "outputs": [
    {
     "data": {
      "text/plain": [
       "5356"
      ]
     },
     "execution_count": 163,
     "metadata": {},
     "output_type": "execute_result"
    }
   ],
   "source": [
    "df[df['organism'] == 'yeast']['query'].nunique()"
   ]
  },
  {
   "cell_type": "code",
   "execution_count": 164,
   "metadata": {},
   "outputs": [
    {
     "data": {
      "text/plain": [
       "112412"
      ]
     },
     "execution_count": 164,
     "metadata": {},
     "output_type": "execute_result"
    }
   ],
   "source": [
    "df[df['organism'] == 'human']['query'].nunique()"
   ]
  },
  {
   "cell_type": "code",
   "execution_count": 146,
   "metadata": {},
   "outputs": [
    {
     "data": {
      "text/plain": [
       "query\n",
       "NP_000005.3        1.178900e+00\n",
       "NP_000006.2        6.899470e-01\n",
       "NP_000007.1        4.345580e-03\n",
       "NP_000008.1        3.661760e-10\n",
       "NP_000009.1        3.588200e-02\n",
       "                      ...      \n",
       "YP_003024033.1     1.837480e+00\n",
       "YP_003024035.1     1.461130e-01\n",
       "YP_003024036.1     3.288700e+00\n",
       "YP_003024037.1     1.725600e-01\n",
       "YP_003024038.1    1.446920e-129\n",
       "Name: evalue, Length: 117768, dtype: float64"
      ]
     },
     "execution_count": 146,
     "metadata": {},
     "output_type": "execute_result"
    }
   ],
   "source": [
    "# function to find reciprocal matches\n",
    "# ans: NP_006436.3 -> NP_012035.1\n",
    "\n",
    "# trick is to just search the minimals\n",
    "# create new dataframe\n",
    "df.groupby('query')['evalue'].min()"
   ]
  },
  {
   "cell_type": "code",
   "execution_count": 154,
   "metadata": {},
   "outputs": [
    {
     "data": {
      "text/html": [
       "<div>\n",
       "<style scoped>\n",
       "    .dataframe tbody tr th:only-of-type {\n",
       "        vertical-align: middle;\n",
       "    }\n",
       "\n",
       "    .dataframe tbody tr th {\n",
       "        vertical-align: top;\n",
       "    }\n",
       "\n",
       "    .dataframe thead th {\n",
       "        text-align: right;\n",
       "    }\n",
       "</style>\n",
       "<table border=\"1\" class=\"dataframe\">\n",
       "  <thead>\n",
       "    <tr style=\"text-align: right;\">\n",
       "      <th></th>\n",
       "      <th>query</th>\n",
       "      <th>hit</th>\n",
       "      <th>evalue</th>\n",
       "      <th>score</th>\n",
       "      <th>organism</th>\n",
       "      <th>q_desc</th>\n",
       "      <th>h_desc</th>\n",
       "    </tr>\n",
       "  </thead>\n",
       "  <tbody>\n",
       "    <tr>\n",
       "      <th>634887</th>\n",
       "      <td>NP_006436.3</td>\n",
       "      <td>NP_012035.1</td>\n",
       "      <td>0.0</td>\n",
       "      <td>7931.0</td>\n",
       "      <td>human</td>\n",
       "      <td>pre-mRNA-processing-splicing factor 8</td>\n",
       "      <td>U4/U6-U5 snRNP complex subunit PRP8</td>\n",
       "    </tr>\n",
       "  </tbody>\n",
       "</table>\n",
       "</div>"
      ],
      "text/plain": [
       "              query          hit  evalue   score organism  \\\n",
       "634887  NP_006436.3  NP_012035.1     0.0  7931.0    human   \n",
       "\n",
       "                                        q_desc  \\\n",
       "634887  pre-mRNA-processing-splicing factor 8    \n",
       "\n",
       "                                      h_desc  \n",
       "634887  U4/U6-U5 snRNP complex subunit PRP8   "
      ]
     },
     "execution_count": 154,
     "metadata": {},
     "output_type": "execute_result"
    }
   ],
   "source": [
    "df.loc[(df['query'] == 'NP_006436.3') & (df['hit'] == 'NP_012035.1')]"
   ]
  },
  {
   "cell_type": "code",
   "execution_count": 134,
   "metadata": {},
   "outputs": [
    {
     "ename": "TypeError",
     "evalue": "'method' object is not subscriptable",
     "output_type": "error",
     "traceback": [
      "\u001b[0;31m---------------------------------------------------------------------------\u001b[0m",
      "\u001b[0;31mTypeError\u001b[0m                                 Traceback (most recent call last)",
      "\u001b[0;32m<ipython-input-134-4299b1c79e1f>\u001b[0m in \u001b[0;36m<module>\u001b[0;34m\u001b[0m\n\u001b[0;32m----> 1\u001b[0;31m \u001b[0mdf\u001b[0m\u001b[0;34m.\u001b[0m\u001b[0mgroupby\u001b[0m\u001b[0;34m[\u001b[0m\u001b[0;34m'query'\u001b[0m\u001b[0;34m]\u001b[0m\u001b[0;34m[\u001b[0m\u001b[0;34m'evalue'\u001b[0m\u001b[0;34m]\u001b[0m\u001b[0;34m.\u001b[0m\u001b[0mmin\u001b[0m\u001b[0;34m(\u001b[0m\u001b[0;34m)\u001b[0m\u001b[0;34m\u001b[0m\u001b[0;34m\u001b[0m\u001b[0m\n\u001b[0m",
      "\u001b[0;31mTypeError\u001b[0m: 'method' object is not subscriptable"
     ]
    }
   ],
   "source": [
    "df.groupby['query']['evalue'].min()"
   ]
  },
  {
   "cell_type": "code",
   "execution_count": null,
   "metadata": {},
   "outputs": [],
   "source": [
    "['NP_006436.3','NP_012035.1','NP_013267.1','NP_013374.1']"
   ]
  },
  {
   "cell_type": "code",
   "execution_count": 113,
   "metadata": {},
   "outputs": [
    {
     "data": {
      "text/html": [
       "<div>\n",
       "<style scoped>\n",
       "    .dataframe tbody tr th:only-of-type {\n",
       "        vertical-align: middle;\n",
       "    }\n",
       "\n",
       "    .dataframe tbody tr th {\n",
       "        vertical-align: top;\n",
       "    }\n",
       "\n",
       "    .dataframe thead th {\n",
       "        text-align: right;\n",
       "    }\n",
       "</style>\n",
       "<table border=\"1\" class=\"dataframe\">\n",
       "  <thead>\n",
       "    <tr style=\"text-align: right;\">\n",
       "      <th></th>\n",
       "      <th>query</th>\n",
       "      <th>hit</th>\n",
       "      <th>evalue</th>\n",
       "      <th>score</th>\n",
       "      <th>organism</th>\n",
       "      <th>q_desc</th>\n",
       "      <th>h_desc</th>\n",
       "    </tr>\n",
       "  </thead>\n",
       "  <tbody>\n",
       "    <tr>\n",
       "      <th>172550</th>\n",
       "      <td>NP_012035.1</td>\n",
       "      <td>NP_006436.3</td>\n",
       "      <td>0.00000</td>\n",
       "      <td>7871.0</td>\n",
       "      <td>yeast</td>\n",
       "      <td>U4/U6-U5 snRNP complex subunit PRP8</td>\n",
       "      <td>pre-mRNA-processing-splicing factor 8</td>\n",
       "    </tr>\n",
       "    <tr>\n",
       "      <th>634887</th>\n",
       "      <td>NP_006436.3</td>\n",
       "      <td>NP_012035.1</td>\n",
       "      <td>0.00000</td>\n",
       "      <td>7931.0</td>\n",
       "      <td>human</td>\n",
       "      <td>pre-mRNA-processing-splicing factor 8</td>\n",
       "      <td>U4/U6-U5 snRNP complex subunit PRP8</td>\n",
       "    </tr>\n",
       "    <tr>\n",
       "      <th>634888</th>\n",
       "      <td>NP_006436.3</td>\n",
       "      <td>NP_013267.1</td>\n",
       "      <td>6.01830</td>\n",
       "      <td>66.0</td>\n",
       "      <td>human</td>\n",
       "      <td>pre-mRNA-processing-splicing factor 8</td>\n",
       "      <td>exocyst subunit SEC10</td>\n",
       "    </tr>\n",
       "    <tr>\n",
       "      <th>634889</th>\n",
       "      <td>NP_006436.3</td>\n",
       "      <td>NP_013374.1</td>\n",
       "      <td>6.37307</td>\n",
       "      <td>65.0</td>\n",
       "      <td>human</td>\n",
       "      <td>pre-mRNA-processing-splicing factor 8</td>\n",
       "      <td>condensin subunit YCS4</td>\n",
       "    </tr>\n",
       "  </tbody>\n",
       "</table>\n",
       "</div>"
      ],
      "text/plain": [
       "              query          hit   evalue   score organism  \\\n",
       "172550  NP_012035.1  NP_006436.3  0.00000  7871.0    yeast   \n",
       "634887  NP_006436.3  NP_012035.1  0.00000  7931.0    human   \n",
       "634888  NP_006436.3  NP_013267.1  6.01830    66.0    human   \n",
       "634889  NP_006436.3  NP_013374.1  6.37307    65.0    human   \n",
       "\n",
       "                                        q_desc  \\\n",
       "172550    U4/U6-U5 snRNP complex subunit PRP8    \n",
       "634887  pre-mRNA-processing-splicing factor 8    \n",
       "634888  pre-mRNA-processing-splicing factor 8    \n",
       "634889  pre-mRNA-processing-splicing factor 8    \n",
       "\n",
       "                                        h_desc  \n",
       "172550  pre-mRNA-processing-splicing factor 8   \n",
       "634887    U4/U6-U5 snRNP complex subunit PRP8   \n",
       "634888                  exocyst subunit SEC10   \n",
       "634889                 condensin subunit YCS4   "
      ]
     },
     "execution_count": 113,
     "metadata": {},
     "output_type": "execute_result"
    }
   ],
   "source": [
    "df[(df['query'] == 'NP_006436.3') | (df['hit'] == 'NP_006436.3')]"
   ]
  },
  {
   "cell_type": "code",
   "execution_count": 20,
   "metadata": {},
   "outputs": [
    {
     "data": {
      "text/plain": [
       "<matplotlib.axes._subplots.AxesSubplot at 0x7fe920c80208>"
      ]
     },
     "execution_count": 20,
     "metadata": {},
     "output_type": "execute_result"
    },
    {
     "data": {
      "image/png": "[encoded data removed]",
      "text/plain": [
       "<Figure size 432x288 with 1 Axes>"
      ]
     },
     "metadata": {
      "needs_background": "light"
     },
     "output_type": "display_data"
    }
   ],
   "source": [
    "# reciprocal blast alignment\n"
   ]
  },
  {
   "cell_type": "code",
   "execution_count": 22,
   "metadata": {},
   "outputs": [],
   "source": [
    "# combine\n",
    "df1 = pd.read_csv('yeast_query.tsv', sep='\\t', names=['query','hit','evalue', 'score', 'organism'])\n",
    "df2 = pd.read_csv('human_query.tsv', sep='\\t', names=['query','hit','evalue', 'score', 'organism'])\n",
    "df = pd.concat([df1, df2])"
   ]
  },
  {
   "cell_type": "code",
   "execution_count": 23,
   "metadata": {},
   "outputs": [
    {
     "data": {
      "text/plain": [
       "(2124377, 5)"
      ]
     },
     "execution_count": 23,
     "metadata": {},
     "output_type": "execute_result"
    }
   ],
   "source": [
    "df.shape"
   ]
  },
  {
   "cell_type": "code",
   "execution_count": 24,
   "metadata": {},
   "outputs": [
    {
     "data": {
      "text/plain": [
       "2124377"
      ]
     },
     "execution_count": 24,
     "metadata": {},
     "output_type": "execute_result"
    }
   ],
   "source": [
    "1728526 + 395851"
   ]
  },
  {
   "cell_type": "code",
   "execution_count": null,
   "metadata": {},
   "outputs": [],
   "source": []
  }
 ],
 "metadata": {
  "kernelspec": {
   "display_name": "sql_env",
   "language": "python",
   "name": "sql_env"
  },
  "language_info": {
   "codemirror_mode": {
    "name": "ipython",
    "version": 3
   },
   "file_extension": ".py",
   "mimetype": "text/x-python",
   "name": "python",
   "nbconvert_exporter": "python",
   "pygments_lexer": "ipython3",
   "version": "3.8.0"
  }
 },
 "nbformat": 4,
 "nbformat_minor": 4
}
